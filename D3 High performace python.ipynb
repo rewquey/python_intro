{
 "cells": [
  {
   "cell_type": "markdown",
   "metadata": {},
   "source": [
    "# Day 3 - Performant Python\n",
    "* Python has a reputation for being slow. But it's not necessarily true. Today we're going to talk about how to make Python very fast.\n",
    "* This session has two parts. First, we'll learn why Python is slow unless one is careful and how to use numpy and numba to make it go fast.\n",
    "* For the second part we'll give a you a few problems where you can experiment with these tools.\n",
    "* I personally find this very exciting."
   ]
  },
  {
   "cell_type": "markdown",
   "metadata": {},
   "source": [
    "## Jitting\n",
    "* Compiling functions can bring big performance gains.\n",
    "* Traditional languages like C are compiled ahead of time before the program can be started.\n",
    "* Jitting is the process of compiling functions just-in-time during program execution.\n",
    "* Jitting can bring the benefits of compilation that languages like C enjoy without sacrificing the convenience of Python.\n",
    "* We're going to use the Numba JIT-compiler that is developed for Python.\n",
    "\n",
    "### Summing an Array"
   ]
  },
  {
   "cell_type": "code",
   "execution_count": null,
   "metadata": {},
   "outputs": [],
   "source": [
    "import time\n",
    "import random\n",
    "import numpy as np\n",
    "from numba import jit, njit\n",
    "\n",
    "@njit\n",
    "def mysum(l):\n",
    "    s = 0\n",
    "    for e in l:\n",
    "        s += e\n",
    "    return s\n",
    "\n",
    "def benchmark(n=10000, m=100):\n",
    "    l = np.fromiter([random.random() for _ in range(n)], dtype=float)\n",
    "    mysum(l)\n",
    "    start = time.time()\n",
    "    for _ in range(m):\n",
    "        s = mysum(l)\n",
    "    elapsed = time.time() - start\n",
    "    per_iteration = elapsed / m\n",
    "    print(f'time per iteration: {per_iteration}s')\n",
    "    \n",
    "benchmark()"
   ]
  },
  {
   "cell_type": "markdown",
   "metadata": {},
   "source": [
    "### Computing Derivatives"
   ]
  },
  {
   "cell_type": "code",
   "execution_count": null,
   "metadata": {},
   "outputs": [],
   "source": [
    "# derivative code"
   ]
  },
  {
   "cell_type": "markdown",
   "metadata": {},
   "source": [
    "## Numba Shenanigans\n",
    "* Numba is a very powerful tool for writing arbitrary performant code. This is what you need when numpy doesn't cover what you want to do.\n",
    "* Writing custom value containers (similar to structs in C or objects with no functions).\n",
    "* Writing custom functions that operate on these value containers.\n",
    "* Automagically (it's a real word, I promise) parallelize your code to exploit multi-core CPUs and even GPUs."
   ]
  },
  {
   "cell_type": "markdown",
   "metadata": {},
   "source": [
    "### Custom dtypes"
   ]
  },
  {
   "cell_type": "code",
   "execution_count": null,
   "metadata": {},
   "outputs": [],
   "source": [
    "from numba import vectorize, float64, int64\n",
    "\n",
    "point_dtype = np.dtype([\n",
    "    ('x', np.float64),\n",
    "    ('y', np.float64),\n",
    "])\n",
    "\n",
    "def create_point(x, y):\n",
    "    return np.array([(x, y)], dtype=point_dtype)[0]\n",
    "\n",
    "@njit\n",
    "def magnitude(p):\n",
    "    return np.sqrt(np.power(p['x'], 2) + np.power(p['y'], 2))\n",
    "\n",
    "@njit\n",
    "def distance(p1, p2):\n",
    "    '''return the distance between points p1 and p2'''\n",
    "    return np.sqrt(np.power(p1['x'] - p2['x'], 2) + np.power(p1['y'] - p2['y'], 2))\n",
    "\n",
    "p1 = create_point(0, 0)\n",
    "p2 = create_point(-1, 1)\n",
    "print(p)\n",
    "d = distance(p1, p2)\n",
    "print(d)\n",
    "\n",
    "m = magnitude(p2)\n",
    "print('magnitude', m)\n",
    "\n",
    "@vectorize([float64(float64, float64)], target='parallel')\n",
    "def magnitude(x, y):\n",
    "    return np.sqrt(np.power(x, 2) + np.power(y, 2))\n",
    "\n",
    "x = np.array([1, 2, 3])\n",
    "y = np.array([3, 2, 5])\n",
    "m = magnitude(x, y)\n",
    "print(m)"
   ]
  },
  {
   "cell_type": "markdown",
   "metadata": {},
   "source": [
    "### Custom ufuncs"
   ]
  },
  {
   "cell_type": "markdown",
   "metadata": {},
   "source": [
    "### Automagic Parallelization\n",
    "* Automagically parallelize for loops.\n",
    "* Exploit multi-core CPUs and even GPUs.\n",
    "* https://numba.pydata.org/numba-doc/dev/user/vectorize.html#dynamic-universal-functions"
   ]
  }
 ],
 "metadata": {
  "@webio": {
   "lastCommId": "e824a944a57b470e80e0741a8621deb3",
   "lastKernelId": "17f4052f-d01f-4236-a4c2-fcc862cad717"
  },
  "kernelspec": {
   "display_name": "Python 3",
   "language": "python",
   "name": "python3"
  },
  "language_info": {
   "codemirror_mode": {
    "name": "ipython",
    "version": 3
   },
   "file_extension": ".py",
   "mimetype": "text/x-python",
   "name": "python",
   "nbconvert_exporter": "python",
   "pygments_lexer": "ipython3",
   "version": "3.6.5"
  }
 },
 "nbformat": 4,
 "nbformat_minor": 2
}
