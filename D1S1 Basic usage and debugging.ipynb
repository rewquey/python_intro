{
 "cells": [
  {
   "cell_type": "markdown",
   "metadata": {},
   "source": [
    "# Day 1 - Introduction\n",
    "\n",
    "Welcome to the Python crash course for climate scientists. I'm glad you're here. During this course we'll give you an overview of how you can use Python in your projects. No-one can become fluent in Python in three days. Instead, we aim to show you a range of tools, how to use them and how they fit together. When you need to use one of them in your own work you can easily look up its documentation.\n",
    "\n",
    "* Python has risen to [become the most popular programming language in the world](https://stackoverflow.blog/2017/09/06/incredible-growth-python/). As it turns out [Python is also incredibly uiseful in science](https://developer.ibm.com/dwblog/2018/use-python-for-scientific-research/).\n",
    "\n",
    "\n",
    "* First, the fundamentals of Python. I write code and you write the same code into your own Jupyter notebooks.\n",
    "* Second, a few small tasks for you where you need to use the concepts we've covered.\n",
    "\n",
    "## Interactive Coding\n",
    "* Most of course will be conducted through interactive coding. This means we write code and you write the same code into your own Notebook.\n",
    "* We'll go quite fast. Don't worry if you don't understand all of it immediately. Afterwards you'll be given a few small problems where you can become more familiar with the concepts we've covered.\n",
    "* If you have the time feel free to experiment by slightly changing the code."
   ]
  },
  {
   "cell_type": "markdown",
   "metadata": {},
   "source": [
    "### Basics\n",
    "* Math\n",
    "* Logic\n",
    "* Variables\n",
    "* Strings"
   ]
  },
  {
   "cell_type": "code",
   "execution_count": null,
   "metadata": {},
   "outputs": [],
   "source": [
    "# Interactive coding"
   ]
  },
  {
   "cell_type": "markdown",
   "metadata": {},
   "source": [
    "### Collections\n",
    "* Lists\n",
    "* Tuples\n",
    "* Dictionaries\n",
    "* Sets"
   ]
  },
  {
   "cell_type": "code",
   "execution_count": null,
   "metadata": {},
   "outputs": [],
   "source": [
    "# Interactive coding"
   ]
  },
  {
   "cell_type": "markdown",
   "metadata": {},
   "source": [
    "### Control Flow\n",
    "* If\n",
    "* For\n",
    "* While"
   ]
  },
  {
   "cell_type": "code",
   "execution_count": null,
   "metadata": {},
   "outputs": [],
   "source": [
    "# Interactive coding"
   ]
  },
  {
   "cell_type": "markdown",
   "metadata": {},
   "source": [
    "### Functions\n",
    "* Well, functions.\n",
    "* The `None` value.\n",
    "* Assertions"
   ]
  },
  {
   "cell_type": "code",
   "execution_count": null,
   "metadata": {},
   "outputs": [],
   "source": [
    "# Interactive coding"
   ]
  },
  {
   "cell_type": "markdown",
   "metadata": {},
   "source": [
    "## Your Problems\n",
    "* **These problems are for you to solve on your own**. We'll give you a few minutes on each problem before showing how we would have solved them. We're using **test-driven development**. This means that we've written code that tests your code for you. **You've completed the problem once all tests pass.**\n",
    "* The point here is for you to **start thinking in Python abstractions** (lists, dicts, functions, etc.), not to produce perfect code, i.e., **don't worry if you don't have time to solve every problem perfectly.**"
   ]
  },
  {
   "cell_type": "markdown",
   "metadata": {},
   "source": [
    "### Problem 1\n",
    "* Write a function `sum2(a, b)` that returns the sum of its two arguments `a` and `b`."
   ]
  },
  {
   "cell_type": "code",
   "execution_count": null,
   "metadata": {},
   "outputs": [],
   "source": [
    "def sum2(a, b):\n",
    "    '''returns the sum of a and b.'''\n",
    "\n",
    "# tests of your function. make no changes below this line.\n",
    "ans = sum2(1, 2)\n",
    "correct = 3\n",
    "assert ans == correct, f'expected {correct}, but got {ans}'\n",
    "\n",
    "ans = sum2(3.0, 2)\n",
    "correct = 5.0\n",
    "assert ans == correct, f'expected {correct}, but got {ans}'\n",
    "\n",
    "ans = sum2('foo', 'bar')\n",
    "correct = 'foobar'\n",
    "assert ans == correct, f'expected {correct}, but got {ans}'\n",
    "\n",
    "print('all tests pass')"
   ]
  },
  {
   "cell_type": "markdown",
   "metadata": {},
   "source": [
    "### Problem 2\n",
    "* Write a function `mymax(l)` that takes a list `l` as its argument and returns the largest value in that list.\n",
    "* Use a for loop to iterate over the values in the list.\n",
    "* If the list is empty (contains zero elements), return `None`."
   ]
  },
  {
   "cell_type": "code",
   "execution_count": null,
   "metadata": {},
   "outputs": [],
   "source": [
    "def mymax(l):\n",
    "    '''Return the largest value in l, or None if l is empty.\n",
    "    \n",
    "    '''\n",
    " \n",
    "# tests of your function. make no changes below this line.\n",
    "ans = mymax([1, 2, 3, 0])\n",
    "correct = 3\n",
    "assert ans == correct, f'expected {correct}, but got {ans}'\n",
    "\n",
    "ans = mymax([-1, -2, -3, 0])\n",
    "correct = 0\n",
    "assert ans == correct, f'expected {correct}, but got {ans}'\n",
    "\n",
    "ans = mymax([1])\n",
    "correct = 1\n",
    "assert ans == correct, f'expected {correct}, but got {ans}'\n",
    "\n",
    "ans = mymax([])\n",
    "correct = None\n",
    "assert ans == correct, f'expected {correct}, but got {ans}'\n",
    "\n",
    "print('all tests pass')"
   ]
  },
  {
   "cell_type": "markdown",
   "metadata": {},
   "source": [
    "### Problem 3\n",
    "* Write a function `occurrences(s)` that takes a string `s` as its argument and returns a dict mapping each character to the number of times it occurrs in `s`.\n",
    "* Use a for loop to iterate over the characters in `s` and a dict to count the number of occurrences.\n",
    "* Try-hard option 1: Use the `get` method on a `dict` instead of using an if statement to handle new occurrences.\n",
    "* Try-hard option 2: Use a `defaultdict` from the [collections module](https://docs.python.org/3.3/library/collections.html) instead of a regular dict to avoid having to use an if statement or the `get` method."
   ]
  },
  {
   "cell_type": "code",
   "execution_count": null,
   "metadata": {},
   "outputs": [],
   "source": [
    "def occurrences(s):\n",
    "    '''return a dict mapping each character in s to the number of times it occurrs in s.\n",
    "    \n",
    "    For example, if s = \"foo\", {\"f\": 1, \"o\": 2} is returned.\n",
    "    \n",
    "    '''\n",
    "    # your code here\n",
    "\n",
    "# tests of your function. make no changes below this line.\n",
    "ans = occurrences('foobar')\n",
    "correct = {'f': 1, 'o': 2, 'b': 1, 'a': 1, 'r': 1}\n",
    "assert ans == correct, f'expected {correct}, but got {ans}'\n",
    "\n",
    "ans = occurrences('')\n",
    "correct = {}\n",
    "assert ans == correct, f'expected {correct}, but got {ans}'\n",
    "\n",
    "print('all tests pass')"
   ]
  },
  {
   "cell_type": "markdown",
   "metadata": {},
   "source": [
    "### Problem 4\n",
    "* Write a function that takes two dictionaries as its arguments and returns a set composed of the keys that exist in both dictionaries."
   ]
  },
  {
   "cell_type": "code",
   "execution_count": null,
   "metadata": {},
   "outputs": [],
   "source": [
    "def keys_in_both(d1, d2):\n",
    "    '''return a set composed of the keys that exist in both d1 and d2.\n",
    "    \n",
    "    for example, if d1 = {\"f\": 1, \"o\": 2} and d2 = {\"o\": 10, \"bar\": 3}, {\"o\"} is returned.\n",
    "    \n",
    "    '''\n",
    "    \n",
    "ans = keys_in_both({\"f\": 1, \"o\": 2}, {\"o\": 10, \"bar\": 3})\n",
    "correct = {\"o\"}\n",
    "assert correct == ans, f'expected {correct}, but got {ans}'\n",
    "\n",
    "ans = keys_in_both({\"f\": 1}, {\"o\": 10, \"bar\": 3})\n",
    "correct = set()\n",
    "assert correct == ans, f'expected {correct}, but got {ans}'\n",
    "\n",
    "ans = keys_in_both({\"bar\": 100, \"f\": 1, \"o\": 2}, {\"o\": 10, \"bar\": 3})\n",
    "correct = {\"o\", \"bar\"}\n",
    "assert correct == ans, f'expected {correct}, but got {ans}'\n",
    "\n",
    "print('all tests pass')"
   ]
  },
  {
   "cell_type": "markdown",
   "metadata": {},
   "source": [
    "### Problem 5\n",
    "* Write a function that takes as input a list of strings and returns a new string that combines all input strings by taking one character from each input string at a time. See the examples in the docstring below for further information."
   ]
  },
  {
   "cell_type": "code",
   "execution_count": null,
   "metadata": {},
   "outputs": [],
   "source": [
    "def multiplex_strings(strings):\n",
    "    '''return a new string created by multiplexing all input strings.\n",
    "    \n",
    "    for example, if the input is [\"foo\", \"bar\"], the returned string is \"fboaor\".\n",
    "    each character of a string is only used once. for example, if the input is\n",
    "    [\"foo\", \"bar\", \"G\"], the returned string is \"fbGoaor\".\n",
    "    \n",
    "    '''\n",
    "    result = ''\n",
    "    remaining_strings = len(strings)\n",
    "    while remaining_strings > 0:\n",
    "        for i, string in enumerate(strings):\n",
    "            if string is None:\n",
    "                continue\n",
    "            if string == \"\":\n",
    "                remaining_strings -= 1\n",
    "                strings[i] = None\n",
    "                continue\n",
    "            result += string[0]\n",
    "            strings[i] = string[1:]\n",
    "    return result\n",
    "    \n",
    "ans = multiplex_strings([\"foo\", \"bar\"])\n",
    "correct = \"fboaor\"\n",
    "assert correct == ans, f'expected {correct}, but got {ans}'\n",
    "\n",
    "ans = multiplex_strings([\"foo\", \"bar\", \"G\"])\n",
    "correct = \"fbGoaor\"\n",
    "assert correct == ans, f'expected {correct}, but got {ans}'\n",
    "\n",
    "ans = multiplex_strings([\"foo\"])\n",
    "correct = \"foo\"\n",
    "assert correct == ans, f'expected {correct}, but got {ans}'\n",
    "\n",
    "ans = multiplex_strings([])\n",
    "correct = \"\"\n",
    "assert correct == ans, f'expected {correct}, but got {ans}'\n",
    "\n",
    "print('all tests pass')"
   ]
  }
 ],
 "metadata": {
  "@webio": {
   "lastCommId": "c59a5419416e4a6da812b1b576690a07",
   "lastKernelId": "53c7b038-f7c0-45e7-9b45-cd8ed5a3194f"
  },
  "kernelspec": {
   "display_name": "Python 3",
   "language": "python",
   "name": "python3"
  },
  "language_info": {
   "codemirror_mode": {
    "name": "ipython",
    "version": 3
   },
   "file_extension": ".py",
   "mimetype": "text/x-python",
   "name": "python",
   "nbconvert_exporter": "python",
   "pygments_lexer": "ipython3",
   "version": "3.6.5"
  }
 },
 "nbformat": 4,
 "nbformat_minor": 2
}
