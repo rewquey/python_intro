{
 "cells": [
  {
   "cell_type": "markdown",
   "metadata": {},
   "source": [
    "# Day 1 - Introduction\n",
    "\n",
    "Welcome to the Python crash course for climate scientists. I'm glad you're here. During this course we'll give you an overview of how you can use Python in your projects. No-one can become fluent in Python in three days. Instead, we aim to show you a range of tools, how to use them and how they fit together. When you need to use one of them in your own work you can easily look up its documentation.\n",
    "\n",
    "* Python has risen to [become the most popular programming language in the world](https://stackoverflow.blog/2017/09/06/incredible-growth-python/). As it turns out [Python is also incredibly uiseful in science](https://developer.ibm.com/dwblog/2018/use-python-for-scientific-research/).\n",
    "\n",
    "For this first sessions we're first going to cover the fundamentals of Python. Next, you'll be given a few small tasks to complete on your own.\n",
    "\n",
    "## Interactive Coding\n",
    "* Most of course will be conducted through interactive coding. This means we write code and you write the same code into your own Notebook.\n",
    "* We'll go quite fast. Don't worry if you don't understand all of it immediately. Afterwards you'll be given a few small problems where you can become more familiar with the concepts we've covered.\n",
    "* If you have the time feel free to experiment by slightly changing the code."
   ]
  },
  {
   "cell_type": "markdown",
   "metadata": {},
   "source": [
    "### Basics\n",
    "* Math, variables\n",
    "* Logic\n",
    "* Strings"
   ]
  },
  {
   "cell_type": "code",
   "execution_count": null,
   "metadata": {},
   "outputs": [],
   "source": [
    "# math/variables\n",
    "\n",
    "# logic\n",
    "\n",
    "# strings\n"
   ]
  },
  {
   "cell_type": "markdown",
   "metadata": {},
   "source": [
    "### Collections\n",
    "* Lists\n",
    "* Tuples\n",
    "* Dictionaries\n",
    "* Sets"
   ]
  },
  {
   "cell_type": "code",
   "execution_count": null,
   "metadata": {},
   "outputs": [],
   "source": [
    "# lists\n",
    "\n",
    "# tuples\n",
    "\n",
    "# dictionaries\n",
    "\n",
    "# sets\n"
   ]
  },
  {
   "cell_type": "markdown",
   "metadata": {},
   "source": [
    "### Control Flow\n",
    "* If\n",
    "* For\n",
    "* While"
   ]
  },
  {
   "cell_type": "code",
   "execution_count": null,
   "metadata": {},
   "outputs": [],
   "source": [
    "# if\n",
    "\n",
    "# for\n",
    "\n",
    "# while\n"
   ]
  },
  {
   "cell_type": "markdown",
   "metadata": {},
   "source": [
    "### Functions\n",
    "* Well, functions.\n",
    "* The `None` value.\n",
    "* Assertions"
   ]
  },
  {
   "cell_type": "code",
   "execution_count": null,
   "metadata": {},
   "outputs": [],
   "source": [
    "# functions\n",
    "\n",
    "# assertions\n",
    "\n",
    "# first-class functions\n"
   ]
  },
  {
   "cell_type": "markdown",
   "metadata": {},
   "source": [
    "## Your Problems\n",
    "* **These problems are for you to solve on your own**. We'll give you a few minutes on each problem before showing how we would have solved them. We're using **test-driven development**. This means that we've written code that tests your code for you. **You've completed the problem once all tests pass.**\n",
    "* The point here is for you to **start thinking in Python abstractions** (lists, dicts, functions, etc.), not to produce perfect code, i.e., **don't worry if you don't have time to solve every problem perfectly.**"
   ]
  },
  {
   "cell_type": "markdown",
   "metadata": {},
   "source": [
    "### Exercise: Sum 2\n",
    "* Write a function `sum2(a, b)` that returns the sum of its two arguments `a` and `b`."
   ]
  },
  {
   "cell_type": "code",
   "execution_count": null,
   "metadata": {},
   "outputs": [],
   "source": [
    "def sum2(a, b):\n",
    "    '''returns the sum of a and b.'''\n",
    "    ### YOUR CODE HERE ###\n",
    "\n",
    "# tests of your function. make no changes below this line.\n",
    "ans = sum2(1, 2)\n",
    "correct = 3\n",
    "assert ans == correct, f'expected {correct}, but got {ans}'\n",
    "\n",
    "ans = sum2(3.0, 2)\n",
    "correct = 5.0\n",
    "assert ans == correct, f'expected {correct}, but got {ans}'\n",
    "\n",
    "ans = sum2('foo', 'bar')\n",
    "correct = 'foobar'\n",
    "assert ans == correct, f'expected {correct}, but got {ans}'\n",
    "\n",
    "print('all tests pass')"
   ]
  },
  {
   "cell_type": "markdown",
   "metadata": {},
   "source": [
    "### Exercise: List of Numbers\n",
    "* Write a function that returns a list of all numbers from a to b (inclusive)."
   ]
  },
  {
   "cell_type": "code",
   "execution_count": null,
   "metadata": {},
   "outputs": [],
   "source": [
    "def arange(a, b):\n",
    "    '''return a list of the integers from a to b (inclusive).'''\n",
    "    ### YOUR CODE HERE ###\n",
    "\n",
    "# tests of your function. make no changes below this line.\n",
    "ans = arange(0, 3)\n",
    "correct = [0, 1, 2, 3]\n",
    "assert ans == correct, f'expected {correct}, but got {ans}'\n",
    "\n",
    "ans = arange(2, 3)\n",
    "correct = [2, 3]\n",
    "assert ans == correct, f'expected {correct}, but got {ans}'\n",
    "\n",
    "ans = arange(-3, 2)\n",
    "correct = [-3, -2, -1, 0, 1, 2]\n",
    "assert ans == correct, f'expected {correct}, but got {ans}'\n",
    "\n",
    "print('all tests pass')"
   ]
  },
  {
   "cell_type": "markdown",
   "metadata": {},
   "source": [
    "### Exercise: Memoization\n",
    "* Create a function that returns a dict mapping the integers in a list to their square roots. Caching computed results in this way is referred to as memoization."
   ]
  },
  {
   "cell_type": "code",
   "execution_count": null,
   "metadata": {},
   "outputs": [],
   "source": [
    "import math\n",
    "def memoize_squares(l):\n",
    "    '''return a dict mapping the values in l to their square roots.'''\n",
    "    ### YOUR CODE HERE ###\n",
    "\n",
    "# tests of your function. make no changes below this line.\n",
    "ans = memoize_squares([1, 2, 3])\n",
    "correct = {1: 1, 2: 4, 3: 9}\n",
    "assert ans == correct, f'expected {correct}, but got {ans}'\n",
    "\n",
    "ans = memoize_squares([])\n",
    "correct = {}\n",
    "assert ans == correct, f'expected {correct}, but got {ans}'\n",
    "\n",
    "ans = memoize_squares([-1, 2, 3])\n",
    "correct = {-1: 1, 2: 4, 3: 9}\n",
    "assert ans == correct, f'expected {correct}, but got {ans}'\n",
    "\n",
    "print('all tests pass')"
   ]
  },
  {
   "cell_type": "markdown",
   "metadata": {},
   "source": [
    "### Exercise: Filtered Sum\n",
    "* Create a function that returns the sum of values in a list that are larger than some value."
   ]
  },
  {
   "cell_type": "code",
   "execution_count": null,
   "metadata": {},
   "outputs": [],
   "source": [
    "def filtered_sum(l, a):\n",
    "    '''return the sum of all values in l larger than a.'''\n",
    "    ### YOUR CODE HERE ###\n",
    "\n",
    "# tests of your function. make no changes below this line.\n",
    "ans = filtered_sum([1, 2, 3], 1)\n",
    "correct = 5\n",
    "assert ans == correct, f'expected {correct}, but got {ans}'\n",
    "\n",
    "ans = filtered_sum([1, 2, 3], 3)\n",
    "correct = 0\n",
    "assert ans == correct, f'expected {correct}, but got {ans}'\n",
    "\n",
    "ans = filtered_sum([1, -3, -1], -2)\n",
    "correct = 0\n",
    "assert ans == correct, f'expected {correct}, but got {ans}'\n",
    "\n",
    "print('all tests pass')"
   ]
  },
  {
   "cell_type": "markdown",
   "metadata": {},
   "source": [
    "### Exercise: Max\n",
    "* Write a function `mymax(l)` that takes a list `l` as its argument and returns the largest value in that list.\n",
    "* Use a for loop to iterate over the values in the list.\n",
    "* If the list is empty (contains zero elements), return `None`."
   ]
  },
  {
   "cell_type": "code",
   "execution_count": null,
   "metadata": {},
   "outputs": [],
   "source": [
    "def mymax(l):\n",
    "    '''Return the largest value in l, or None if l is empty.\n",
    "    \n",
    "    '''\n",
    "    ### YOUR CODE HERE ###\n",
    " \n",
    "# tests of your function. make no changes below this line.\n",
    "ans = mymax([1, 2, 3, 0])\n",
    "correct = 3\n",
    "assert ans == correct, f'expected {correct}, but got {ans}'\n",
    "\n",
    "ans = mymax([-1, -2, -3, 0])\n",
    "correct = 0\n",
    "assert ans == correct, f'expected {correct}, but got {ans}'\n",
    "\n",
    "ans = mymax([1])\n",
    "correct = 1\n",
    "assert ans == correct, f'expected {correct}, but got {ans}'\n",
    "\n",
    "ans = mymax([])\n",
    "correct = None\n",
    "assert ans == correct, f'expected {correct}, but got {ans}'\n",
    "\n",
    "print('all tests pass')"
   ]
  },
  {
   "cell_type": "markdown",
   "metadata": {},
   "source": [
    "### Exercise: Character Occurences\n",
    "* Write a function `occurrences(s)` that takes a string `s` as its argument and returns a dict mapping each character to the number of times it occurrs in `s`.\n",
    "* Use a for loop to iterate over the characters in `s` and a dict to count the number of occurrences.\n",
    "* Try-hard: Use the `get` method on a `dict` instead of using an if statement to handle new occurrences.\n",
    "* Try-hard: Use a `defaultdict` from the [collections module](https://docs.python.org/3.3/library/collections.html) instead of a regular dict to avoid having to use an if statement or the `get` method."
   ]
  },
  {
   "cell_type": "code",
   "execution_count": null,
   "metadata": {},
   "outputs": [],
   "source": [
    "def occurrences(s):\n",
    "    '''return a dict mapping each character in s to the number of times it occurrs in s.\n",
    "    \n",
    "    For example, if s = \"foo\", {\"f\": 1, \"o\": 2} is returned.\n",
    "    \n",
    "    '''\n",
    "    ### YOUR CODE HERE ###\n",
    "\n",
    "# tests of your function. make no changes below this line.\n",
    "ans = occurrences('foobar')\n",
    "correct = {'f': 1, 'o': 2, 'b': 1, 'a': 1, 'r': 1}\n",
    "assert ans == correct, f'expected {correct}, but got {ans}'\n",
    "\n",
    "ans = occurrences('')\n",
    "correct = {}\n",
    "assert ans == correct, f'expected {correct}, but got {ans}'\n",
    "\n",
    "print('all tests pass')"
   ]
  },
  {
   "cell_type": "markdown",
   "metadata": {},
   "source": [
    "### Exercise: Dict Key Overlap\n",
    "* Write a function that takes two dictionaries as its arguments and returns a set composed of the keys that exist in both dictionaries.\n",
    "* Try-hard: Do it in 1 line of code."
   ]
  },
  {
   "cell_type": "code",
   "execution_count": null,
   "metadata": {},
   "outputs": [],
   "source": [
    "def keys_in_both(d1, d2):\n",
    "    '''return a set composed of the keys that exist in both d1 and d2.\n",
    "    \n",
    "    for example, if d1 = {\"f\": 1, \"o\": 2} and d2 = {\"o\": 10, \"bar\": 3}, {\"o\"} is returned.\n",
    "    \n",
    "    '''\n",
    "    ### YOUR CODE HERE ###\n",
    "\n",
    "# tests of your function. make no changes below this line.\n",
    "ans = keys_in_both({\"f\": 1, \"o\": 2}, {\"o\": 10, \"bar\": 3})\n",
    "correct = {\"o\"}\n",
    "assert correct == ans, f'expected {correct}, but got {ans}'\n",
    "\n",
    "ans = keys_in_both({\"f\": 1}, {\"o\": 10, \"bar\": 3})\n",
    "correct = set()\n",
    "assert correct == ans, f'expected {correct}, but got {ans}'\n",
    "\n",
    "ans = keys_in_both({\"bar\": 100, \"f\": 1, \"o\": 2}, {\"o\": 10, \"bar\": 3})\n",
    "correct = {\"o\", \"bar\"}\n",
    "assert correct == ans, f'expected {correct}, but got {ans}'\n",
    "\n",
    "print('all tests pass')"
   ]
  },
  {
   "cell_type": "markdown",
   "metadata": {},
   "source": [
    "### Exercise: String Multiplexing\n",
    "* Write a function that takes as input a list of strings and returns a new string that combines all input strings by taking one character from each input string at a time. See the examples in the docstring below for further information."
   ]
  },
  {
   "cell_type": "code",
   "execution_count": null,
   "metadata": {},
   "outputs": [],
   "source": [
    "def multiplex_strings(strings):\n",
    "    '''return a new string created by multiplexing all input strings.\n",
    "    \n",
    "    for example, if the input is [\"foo\", \"bar\"], the returned string is \"fboaor\".\n",
    "    each character of a string is only used once. for example, if the input is\n",
    "    [\"foo\", \"bar\", \"G\"], the returned string is \"fbGoaor\".\n",
    "    \n",
    "    '''\n",
    "    ### YOUR CODE HERE ###\n",
    "\n",
    "# tests of your function. make no changes below this line.\n",
    "ans = multiplex_strings([\"foo\", \"bar\"])\n",
    "correct = \"fboaor\"\n",
    "assert correct == ans, f'expected {correct}, but got {ans}'\n",
    "\n",
    "ans = multiplex_strings([\"foo\", \"bar\", \"G\"])\n",
    "correct = \"fbGoaor\"\n",
    "assert correct == ans, f'expected {correct}, but got {ans}'\n",
    "\n",
    "ans = multiplex_strings([\"foo\"])\n",
    "correct = \"foo\"\n",
    "assert correct == ans, f'expected {correct}, but got {ans}'\n",
    "\n",
    "ans = multiplex_strings([])\n",
    "correct = \"\"\n",
    "assert correct == ans, f'expected {correct}, but got {ans}'\n",
    "\n",
    "print('all tests pass')"
   ]
  }
 ],
 "metadata": {
  "@webio": {
   "lastCommId": "15271ab9cbc24d5988097a5a8ce042f3",
   "lastKernelId": "97a1bd3b-85d1-405b-9b62-7764888a80f2"
  },
  "kernelspec": {
   "display_name": "Python 3",
   "language": "python",
   "name": "python3"
  },
  "language_info": {
   "codemirror_mode": {
    "name": "ipython",
    "version": 3
   },
   "file_extension": ".py",
   "mimetype": "text/x-python",
   "name": "python",
   "nbconvert_exporter": "python",
   "pygments_lexer": "ipython3",
   "version": "3.6.5"
  }
 },
 "nbformat": 4,
 "nbformat_minor": 2
}
