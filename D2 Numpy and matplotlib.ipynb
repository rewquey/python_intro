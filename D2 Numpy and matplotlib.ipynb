{
 "cells": [
  {
   "cell_type": "markdown",
   "metadata": {},
   "source": [
    "# Day 2: From text files to plots\n",
    "Today we'll learn how to read text files into Python, how to extract data from those files, and how to create plots.\n",
    "\n",
    "Session outline:\n",
    "1. Introduction to `numpy` (Matlab-style matrices in Python)\n",
    "2. Creating plots with `matplotlib` (functionally similar to Matlab plots)\n",
    "3. Loading data from text files with `numpy`\n",
    "4. More plotting"
   ]
  },
  {
   "cell_type": "markdown",
   "metadata": {},
   "source": [
    "## Arrays with `numpy`\n",
    "Numpy is a matrix manipulation package for Python. Numpy arrays are similar to Matlab marices, although there are some notable differences, which are outlined in:\n",
    "* https://numpy.org/doc/stable/user/numpy-for-matlab-users.html"
   ]
  },
  {
   "cell_type": "code",
   "execution_count": null,
   "metadata": {},
   "outputs": [],
   "source": [
    "import numpy as np # import the numpy package\n",
    "\n",
    "# creating one-dimensional numpy arrays\n",
    "\n",
    "# array indexing\n",
    "\n",
    "# numpy arrays vs. Python lists\n",
    "\n",
    "# element-wise operations\n",
    "\n",
    "# creating 2-dimensional arrays\n",
    "\n",
    "# matrix transposition and multiplication\n"
   ]
  },
  {
   "cell_type": "markdown",
   "metadata": {},
   "source": [
    "## Plotting with `matplotlib`\n",
    "Using `matplotlib` to plot data stored in `numpy` arrays."
   ]
  },
  {
   "cell_type": "code",
   "execution_count": null,
   "metadata": {},
   "outputs": [],
   "source": [
    "import numpy as np\n",
    "import matplotlib.pyplot as plt\n",
    "\n",
    "# needed to use matplotlib in Jupyter notebooks\n",
    "%matplotlib inline "
   ]
  },
  {
   "cell_type": "markdown",
   "metadata": {},
   "source": [
    "## Loading text files\n",
    "First, let's print the contents of the file."
   ]
  },
  {
   "cell_type": "code",
   "execution_count": null,
   "metadata": {},
   "outputs": [],
   "source": [
    "%%bash\n",
    "cat D2/Dovre1-Snoheim.txt"
   ]
  },
  {
   "cell_type": "markdown",
   "metadata": {},
   "source": [
    "Next, let's load the data into Python with the `loadtext` function in `numpy`.\n",
    "* https://numpy.org/doc/stable/reference/generated/numpy.loadtxt.html"
   ]
  },
  {
   "cell_type": "code",
   "execution_count": null,
   "metadata": {},
   "outputs": [],
   "source": [
    "# loading text files with np.loadtext\n",
    "filename = 'D2/Dovre1-Snoheim.txt'"
   ]
  },
  {
   "cell_type": "markdown",
   "metadata": {},
   "source": [
    "That didn't work!\n",
    "\n",
    "`numpy.loadtext` doesn't know what to do with the datetime strings in the first column. Because `numpy` arrays can only contain numbers we need to convert the strings into numbers when loading the file."
   ]
  },
  {
   "cell_type": "code",
   "execution_count": null,
   "metadata": {},
   "outputs": [],
   "source": [
    "# converting datetime strings to and from floats\n",
    "from datetime import datetime\n",
    "from matplotlib.dates import num2date, date2num"
   ]
  },
  {
   "cell_type": "markdown",
   "metadata": {},
   "source": [
    "# Plotting the data we loaded\n",
    "1. Extract the data we want to plot\n",
    "2. Convert floats back to dates\n",
    "3. Create the plot"
   ]
  },
  {
   "cell_type": "code",
   "execution_count": null,
   "metadata": {},
   "outputs": [],
   "source": [
    "# make the columns available as variables\n"
   ]
  },
  {
   "cell_type": "code",
   "execution_count": null,
   "metadata": {},
   "outputs": [],
   "source": [
    "# create the plot\n",
    "import matplotlib.pyplot as plt\n",
    "\n",
    "# add y-axis label\n",
    "\n",
    "# change date format\n",
    "import matplotlib.dates as mdates\n"
   ]
  },
  {
   "cell_type": "markdown",
   "metadata": {},
   "source": [
    "## Windspeed on the right y-axis"
   ]
  },
  {
   "cell_type": "code",
   "execution_count": null,
   "metadata": {},
   "outputs": [],
   "source": [
    "# create the plot\n",
    "\n",
    "# add y-axis label\n",
    "\n",
    "# change date format\n",
    "import matplotlib.dates as mdates\n",
    "\n",
    "# add windspeed on the right y-axis\n"
   ]
  },
  {
   "cell_type": "markdown",
   "metadata": {},
   "source": [
    "# Exercise: Airtemp vs. windspeed scatter plot\n",
    "1. Create a scatter plot with air temperature (`airtemp`) on the x axis and wind speed (`windspeed`) on the y axis. Add axis labels, set axis limits, adjust colors, etc.\n",
    "2. Save the figure as a pdf using the `plt.savefig` command\n",
    "    * https://matplotlib.org/3.2.1/api/_as_gen/matplotlib.pyplot.savefig.html"
   ]
  },
  {
   "cell_type": "code",
   "execution_count": null,
   "metadata": {},
   "outputs": [],
   "source": []
  },
  {
   "cell_type": "markdown",
   "metadata": {},
   "source": [
    "# Exercise: recreate the following figure\n",
    "* Data: `D2/rro_Bulken.txt`\n",
    "* Runoff is the 3-rd column from the right\n",
    "<img src=\"D2/bulken.png\">"
   ]
  },
  {
   "cell_type": "code",
   "execution_count": null,
   "metadata": {},
   "outputs": [],
   "source": [
    "%%bash\n",
    "cat D2/rro_Bulken.txt"
   ]
  },
  {
   "cell_type": "code",
   "execution_count": null,
   "metadata": {},
   "outputs": [],
   "source": [
    "import matplotlib.pyplot as plt\n",
    "import matplotlib.dates as mdates\n",
    "\n",
    "from datetime import datetime\n",
    "from matplotlib.dates import num2date, date2num\n",
    "\n",
    "def str2date_rro(s):\n",
    "    date = datetime.strptime(s, \"%d%m%Y\")\n",
    "    return date2num(date)\n",
    "\n",
    "def missing_to_NaN(istr):\n",
    "    ''' Convert a string containing a number to a float, interpreting unparsable strings as NaN '''\n",
    "    try:\n",
    "        val = float(istr)\n",
    "    except ValueError:\n",
    "        val = float('NaN')\n",
    "    \n",
    "    return val\n",
    "\n",
    "data = np.loadtxt(\"D2/rro_Bulken.txt\", encoding='latin1', converters={\n",
    "    0: str2date_rro,\n",
    "    1: missing_to_NaN,\n",
    "    2: missing_to_NaN,\n",
    "})\n",
    "\n",
    "### YOUR CODE HERE ###"
   ]
  },
  {
   "cell_type": "markdown",
   "metadata": {},
   "source": [
    "# Exercise: recreate the following figure\n",
    "* Data: `D2/rr24_Bulken.txt`\n",
    "* You can create bar plots with ``plt.bar``. The width of the bars can be changed by the ``width=value``-keyword argument, which with time date takes a value in the unit of days.\n",
    " \n",
    " <img src=\"D2/bulken_precip.png\">"
   ]
  },
  {
   "cell_type": "code",
   "execution_count": null,
   "metadata": {},
   "outputs": [],
   "source": [
    "%%bash\n",
    "cat D2/rr24_Bulken.txt"
   ]
  },
  {
   "cell_type": "code",
   "execution_count": null,
   "metadata": {},
   "outputs": [],
   "source": [
    "import matplotlib.pyplot as plt\n",
    "import matplotlib.dates as mdates\n",
    "\n",
    "from datetime import datetime\n",
    "from matplotlib.dates import num2date, date2num\n",
    "\n",
    "def str2date_rr24(s):\n",
    "    date = datetime.strptime(s, \"%d.%m.%Y\")\n",
    "    return date2num(date)\n",
    "\n",
    "def missing_to_NaN(istr):\n",
    "    ''' Convert a string containing a number to a float, interpreting unparsable strings as NaN '''\n",
    "    try:\n",
    "        val = float(istr)\n",
    "    except ValueError:\n",
    "        val = float('NaN')\n",
    "    \n",
    "    return val\n",
    "\n",
    "data = np.loadtxt(\"D2/rr24_Bulken.txt\", encoding='latin1', usecols=(1, 2, 3), skiprows=21, converters={\n",
    "    1: str2date_rr24,\n",
    "    2: missing_to_NaN,\n",
    "    3: missing_to_NaN,\n",
    "})\n",
    "\n",
    "### YOUR CODE HERE ###"
   ]
  }
 ],
 "metadata": {
  "kernelspec": {
   "display_name": "dynpie3-2020a",
   "language": "python",
   "name": "dynpie3-2020a"
  },
  "language_info": {
   "codemirror_mode": {
    "name": "ipython",
    "version": 3
   },
   "file_extension": ".py",
   "mimetype": "text/x-python",
   "name": "python",
   "nbconvert_exporter": "python",
   "pygments_lexer": "ipython3",
   "version": "3.7.0"
  }
 },
 "nbformat": 4,
 "nbformat_minor": 2
}
