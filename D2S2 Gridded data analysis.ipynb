{
 "cells": [
  {
   "cell_type": "markdown",
   "metadata": {},
   "source": [
    "# Day 2, after lunch: Gridded data analysis and plotting\n",
    "Focus: netCDF files. Very useful standard, because\n",
    " * Provide meta information\n",
    " * Provide structure (dimensions versus variables)"
   ]
  },
  {
   "cell_type": "markdown",
   "metadata": {},
   "source": [
    "## Raw access to netCDF\n",
    "\n",
    "Using the ``netCDF4`` library."
   ]
  },
  {
   "cell_type": "code",
   "execution_count": null,
   "metadata": {},
   "outputs": [],
   "source": [
    "import netCDF4 as nc\n",
    "f = nc.Dataset('d2s2/ei.ans.2010072912.800.T.nc', 'r')"
   ]
  },
  {
   "cell_type": "markdown",
   "metadata": {},
   "source": [
    "So far, so easy. But what's in this file?"
   ]
  },
  {
   "cell_type": "code",
   "execution_count": null,
   "metadata": {},
   "outputs": [],
   "source": [
    "print('Variables:', f.variables)\n",
    "print('Attributes:', f.ncattrs())"
   ]
  },
  {
   "cell_type": "markdown",
   "metadata": {},
   "source": [
    "Retrieving variables is straight-forward, but one has to be aware of a subtlety:"
   ]
  },
  {
   "cell_type": "code",
   "execution_count": null,
   "metadata": {},
   "outputs": [],
   "source": [
    "temp = f.variables['t']\n",
    "# Retrieving the variable object versus the data\n",
    "print(type(temp), type(temp[:]))"
   ]
  },
  {
   "cell_type": "markdown",
   "metadata": {},
   "source": [
    "There is a difference between the variable object ``temp`` and the ``numpy.ndarray`` that contains the actual data! The variable object contains all meta-data while the ``numpy`` array does not."
   ]
  },
  {
   "cell_type": "code",
   "execution_count": null,
   "metadata": {},
   "outputs": [],
   "source": [
    "temp = temp[:]\n",
    "print(temp.shape, temp.min(), temp.max())"
   ]
  },
  {
   "cell_type": "markdown",
   "metadata": {},
   "source": [
    "This raw access is not super difficult or cumbersome, but may be there is an even simpler way?"
   ]
  },
  {
   "cell_type": "markdown",
   "metadata": {},
   "source": [
    "## Access through ``xarray``\n",
    "\n",
    "The xarray package is very convenient for working with netCDF data, because it merges the variable object and the data array in one structure. \n",
    "\n",
    "Todo: Better names for ``t_da``."
   ]
  },
  {
   "cell_type": "code",
   "execution_count": null,
   "metadata": {},
   "outputs": [],
   "source": [
    "import xarray as xr\n",
    "f = xr.open_dataset('d2s2/ei.ans.2010072912.800.T.nc')\n",
    "temp_var = f.variables['t']\n",
    "t_da = f['t']\n",
    "print(type(t_da),type(temp_var))\n",
    "print(t_da)"
   ]
  },
  {
   "cell_type": "markdown",
   "metadata": {},
   "source": [
    "The access pattern is very much the same as through the ``netCDF4`` module. However, there is the additional option of accessing ``f['t']`` which contains the both the data and the metadata and can directly be used for analysis and calculations."
   ]
  },
  {
   "cell_type": "markdown",
   "metadata": {},
   "source": [
    "For example, the ``DataArray`` allows array indexing through dimension values rather than grid point indexes."
   ]
  },
  {
   "cell_type": "code",
   "execution_count": null,
   "metadata": {},
   "outputs": [],
   "source": [
    "print(t_da.sel(latitude=60.5))\n",
    "print(t_da.sel(latitude=60.5, longitude=5.5))"
   ]
  },
  {
   "cell_type": "markdown",
   "metadata": {},
   "source": [
    "The results of these indexing operations are again of type ``DataArray``, and can hence be further manipulated and analysed."
   ]
  },
  {
   "cell_type": "markdown",
   "metadata": {},
   "source": [
    "In addition, they contain up-to-date metadata, so they can directly be saved to netCDF files."
   ]
  },
  {
   "cell_type": "code",
   "execution_count": null,
   "metadata": {},
   "outputs": [],
   "source": [
    "from datetime import datetime as dt\n",
    "tosave = t_da.sel(time=dt(2010,7,29,6))\n",
    "tosave.to_netcdf('example.nc')\n",
    "!ls -l example.nc"
   ]
  },
  {
   "cell_type": "markdown",
   "metadata": {},
   "source": [
    "If you have ncdump available, you can also have a direct look at what we saved, and to verify that all metadata has automatically been transferred (and even adapted!) to correctly describe the new netCDF file."
   ]
  },
  {
   "cell_type": "code",
   "execution_count": null,
   "metadata": {},
   "outputs": [],
   "source": [
    "!ncdump -h example.nc"
   ]
  },
  {
   "cell_type": "markdown",
   "metadata": {},
   "source": [
    "## Plotting maps\n",
    "\n",
    "Now that we found an easy way to read and analyse gridded data, let's see how to visualise it. One of the most common types of visualisation is through maps. To plot data on a map, we use the ``cartopy`` module, which is based on ``matplotlib``."
   ]
  },
  {
   "cell_type": "markdown",
   "metadata": {},
   "source": [
    "So let's see how to set up a map to plot on."
   ]
  },
  {
   "cell_type": "code",
   "execution_count": null,
   "metadata": {},
   "outputs": [],
   "source": [
    "import cartopy.crs as ccrs\n",
    "import matplotlib.pyplot as plt\n",
    "\n",
    "# Create a matplotlib axes using the Lambert Conic Conformal projection\n",
    "proj = ccrs.LambertConformal(\n",
    "    central_longitude=-30, \n",
    "    central_latitude=58, \n",
    "    standard_parallels=(58, 58)\n",
    ")\n",
    "ax = plt.axes(projection=proj)\n",
    "\n",
    "# Add coastlines and the lat-lon grid\n",
    "ax.coastlines()\n",
    "ax.gridlines(ylocs=range(15,76,15))\n",
    "\n",
    "# set map boundaries by setting the x- and y-limits in meters\n",
    "#ax.set_xlim([-5.4e6, 5.4e6])\n",
    "#ax.set_ylim([-3.6e6, 3.6e6])"
   ]
  },
  {
   "cell_type": "markdown",
   "metadata": {},
   "source": [
    "A lot of text for an empty hull of a map. Now let's fill it with some data. Fortunately, that is very easy, using the standard plotting commands of ``matplotlib``, like ``contourf`` for a filled-contour plot."
   ]
  },
  {
   "cell_type": "code",
   "execution_count": null,
   "metadata": {},
   "outputs": [],
   "source": [
    "# Explicitly set the Figure size\n",
    "fig = plt.figure(figsize=(10.0,6.0), dpi=96) \n",
    "ax = plt.axes(projection=proj)\n",
    "\n",
    "# A temperature map\n",
    "showdate = t_da.time.values[0]\n",
    "cs = ax.contourf(t_da.longitude, t_da.latitude, t_da.sel(time=showdate), \n",
    "            range(266,301,2),\n",
    "            cmap='RdBu_r',\n",
    "            transform=ccrs.PlateCarree(), # the projection of the data grid, here lat/lon, i.e. PlateCarree\n",
    ")\n",
    "ax.coastlines()\n",
    "ax.gridlines(ylocs=range(15,76,15))\n",
    "\n",
    "ax.set_xlim([-5.4e6, 5.4e6])\n",
    "ax.set_ylim([-3.6e6, 3.6e6])\n",
    "\n",
    "plt.colorbar(cs, fraction=0.1, shrink=0.9)"
   ]
  },
  {
   "cell_type": "markdown",
   "metadata": {},
   "source": [
    "This temperature data is from the peak of the Russian heat wave in 2010, so let's shift the map focus towards Eurasia, and mark some cities on the map. We'll use the cities where we have temperature time series available.\n",
    "\n",
    "For now we're only interested in the location of these cities (given in the meta data of the netCDF file), but later we'll also include the temperature time series in the plot.\n",
    "\n",
    "ToDo: Have a separate look at the time series netCDF files before."
   ]
  },
  {
   "cell_type": "code",
   "execution_count": null,
   "metadata": {},
   "outputs": [],
   "source": [
    "fig = plt.figure(figsize=(10.0,6.0), dpi=96) \n",
    "\n",
    "# new projection, centred on Moscow\n",
    "proj = ccrs.LambertConformal(\n",
    "    central_longitude=30, \n",
    "    central_latitude=55, \n",
    "    standard_parallels=(55, 55)\n",
    ")\n",
    "\n",
    "# Plot map\n",
    "ax = plt.axes(projection=proj) # Map axes covers everything but the rightmost column\n",
    "cs = ax.contourf(t_da.longitude, t_da.latitude, t_da.sel(time=showdate), \n",
    "            range(266,301,2),\n",
    "            cmap='RdBu_r',\n",
    "            transform=ccrs.PlateCarree(), # the projection of the data grid, here lat/lon, i.e. PlateCarree\n",
    ")\n",
    "ax.coastlines()\n",
    "ax.gridlines(ylocs=range(15,76,15))\n",
    "\n",
    "ax.set_xlim([-3.2e6, 3.2e6])\n",
    "ax.set_ylim([-2.4e6, 2.4e6])\n",
    "plt.colorbar(cs, fraction=0.1, shrink=0.9)\n",
    "\n",
    "\n",
    "# obs and info from different places\n",
    "stations = ['StPeter', 'Moscow', 'NizNovg']\n",
    "\n",
    "# Add locations of stations on the map\n",
    "for sidx, station, name in zip(range(len(stations)), stations, stationnames):\n",
    "    f = xr.open_dataset('d2s2/ei.ans.2010.800.%s.nc' % station)\n",
    "    lat = f['lat'].values[0]\n",
    "    lon = f['lon'].values[0]\n",
    "    ax.scatter(lon, lat, s=100, facecolor='C%d' % sidx, edgecolor='w', \n",
    "               linewidth=1, transform=ccrs.PlateCarree())"
   ]
  },
  {
   "cell_type": "markdown",
   "metadata": {},
   "source": [
    "Finally, let's extend the plot by adding panels showing the temperature time series at these three locations. We'll set up a 4x3 matrix of subplots, using the entire 3x3 square on the left for the map, and the 1x3 column on the right for the time series.\n",
    "\n",
    "This kind of panel setup can be achieved through the ``gridspec`` module of ``matplotlib``.\n",
    "\n",
    "Further, we'll also add text annotations in the lower left corner of each panel as a very brief description of what is shown.\n",
    "\n",
    "\n",
    "ToDo: Keep this as an open-ended suggestion for how to make a fancy plot. Keep the hints and suggestions for individual parts, may be as a list (as there are probably many hints required for the below). Encourage to experient beyond what is shown."
   ]
  },
  {
   "cell_type": "code",
   "execution_count": null,
   "metadata": {},
   "outputs": [],
   "source": [
    "import numpy as np\n",
    "import pandas as pd\n",
    "import matplotlib.dates as mdates\n",
    "import matplotlib.gridspec as gridspec\n",
    "\n",
    "# width with cb: 6.48 / 0.9 = 7.2, leaving 2.8 for the temperature curves\n",
    "fig = plt.figure(figsize=(10.0,4.32), dpi=96)\n",
    "\n",
    "# Setup panels\n",
    "gs = gridspec.GridSpec(3,4)\n",
    "gs.update(hspace=0.0, wspace=0.0)\n",
    "\n",
    "# Plot map\n",
    "axm = plt.subplot(gs[:,:-1], projection=proj) # Map axes covers everything but the rightmost column\n",
    "cs = axm.contourf(t_da.longitude, t_da.latitude, t_da.sel(time=showdate), \n",
    "            range(266,301,2),\n",
    "            cmap='RdBu_r',\n",
    "            transform=ccrs.PlateCarree(), # the projection of the data grid, here lat/lon, i.e. PlateCarree\n",
    ")\n",
    "axm.coastlines()\n",
    "axm.gridlines(ylocs=range(15,76,15))\n",
    "\n",
    "axm.set_xlim([-3.2e6, 3.2e6])\n",
    "axm.set_ylim([-2.4e6, 2.4e6])\n",
    "plt.colorbar(cs, fraction=0.1, shrink=0.9)\n",
    "\n",
    "# Convert showdate to datetime, to then be able to format a string\n",
    "datestr = pd.to_datetime(showdate).strftime('%Y-%m-%d, %H UTC')\n",
    "axm.text(0.05, 0.05, datestr, transform=axm.transAxes, \n",
    "         bbox=dict(boxstyle=\"round\", fc='w', alpha=0.7))\n",
    "\n",
    "# Plot temperature time series, 3 weeks before and after the peak of the heat wave\n",
    "showperiod = (showdate - np.timedelta64(21, 'D'), showdate + np.timedelta64(21, 'D'))\n",
    "for sidx, station, name in zip(range(len(stations)), stations, stationnames):\n",
    "    color = 'C%d' % sidx\n",
    "    f = xr.open_dataset('d2s2/ei.ans.2010.800.%s.nc' % station)\n",
    "    T = f['T'].squeeze() # Remove length-1 dimensions (lev,lat,lon), leaving only time in this case\n",
    "\n",
    "    lat = f['lat'].values[0]\n",
    "    lon = f['lon'].values[0]\n",
    "    axm.scatter(lon, lat, s=100, facecolor=color, edgecolor='w', \n",
    "               linewidth=1, transform=ccrs.PlateCarree())    \n",
    "    \n",
    "    ax = plt.subplot(gs[sidx,-1])\n",
    "    ax.plot([showdate, showdate], [278,296], color='0.2', linestyle='--') # vertical line\n",
    "    slc = xr.ufuncs.logical_and(T.time >= showperiod[0], T.time <= showperiod[1])\n",
    "    #T[slc].plot(color='red') \n",
    "    ax.plot(T.time[slc], T[slc], color)\n",
    "    ax.yaxis.tick_right()\n",
    "    \n",
    "    if station == stations[-1]:\n",
    "        ax.xaxis.set_major_formatter(mdates.DateFormatter('%d'))\n",
    "        ax.set_xlabel('Day of Jul/Aug 2010')\n",
    "    else:\n",
    "        ax.set_xticks([])\n",
    "    \n",
    "    ax.text(0.05, 0.05, name, color=color, transform=ax.transAxes)\n",
    "\n",
    "# After all this work, finally, a title for the entire figure.\n",
    "fig.suptitle('800 hPa Temperatures [K]')"
   ]
  },
  {
   "cell_type": "code",
   "execution_count": null,
   "metadata": {},
   "outputs": [],
   "source": []
  }
 ],
 "metadata": {
  "kernelspec": {
   "display_name": "Python 3",
   "language": "python",
   "name": "python3"
  },
  "language_info": {
   "codemirror_mode": {
    "name": "ipython",
    "version": 3
   },
   "file_extension": ".py",
   "mimetype": "text/x-python",
   "name": "python",
   "nbconvert_exporter": "python",
   "pygments_lexer": "ipython3",
   "version": "3.7.0"
  }
 },
 "nbformat": 4,
 "nbformat_minor": 2
}
