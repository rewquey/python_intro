{
 "cells": [
  {
   "cell_type": "markdown",
   "metadata": {},
   "source": [
    "# Repetition from Day 1\n",
    "ToDo: Which topics to repeat? Prepare here?"
   ]
  },
  {
   "cell_type": "markdown",
   "metadata": {},
   "source": [
    "# Day 2, before lunch: Gridded data analysis and plotting\n",
    "Focus: netCDF files"
   ]
  },
  {
   "cell_type": "code",
   "execution_count": 17,
   "metadata": {},
   "outputs": [],
   "source": [
    "import netCDF4 as nc\n",
    "f = nc.Dataset('d2s2/ei.ans.2010072912.800.T.nc', 'r')"
   ]
  },
  {
   "cell_type": "code",
   "execution_count": 6,
   "metadata": {
    "scrolled": true
   },
   "outputs": [
    {
     "name": "stdout",
     "output_type": "stream",
     "text": [
      "Variables: OrderedDict([('longitude', <class 'netCDF4._netCDF4.Variable'>\n",
      "float32 longitude(longitude)\n",
      "    standard_name: longitude\n",
      "    long_name: longitude\n",
      "    units: degrees_east\n",
      "    axis: X\n",
      "unlimited dimensions: \n",
      "current shape = (720,)\n",
      "filling on, default _FillValue of 9.969209968386869e+36 used\n",
      "), ('latitude', <class 'netCDF4._netCDF4.Variable'>\n",
      "float32 latitude(latitude)\n",
      "    standard_name: latitude\n",
      "    long_name: latitude\n",
      "    units: degrees_north\n",
      "    axis: Y\n",
      "unlimited dimensions: \n",
      "current shape = (361,)\n",
      "filling on, default _FillValue of 9.969209968386869e+36 used\n",
      "), ('time', <class 'netCDF4._netCDF4.Variable'>\n",
      "float64 time(time)\n",
      "    standard_name: time\n",
      "    units: hours since 1900-01-01 00:00:00\n",
      "    calendar: standard\n",
      "unlimited dimensions: time\n",
      "current shape = (1,)\n",
      "filling on, default _FillValue of 9.969209968386869e+36 used\n",
      "), ('t', <class 'netCDF4._netCDF4.Variable'>\n",
      "int16 t(time, latitude, longitude)\n",
      "    long_name: Temperature\n",
      "    units: K\n",
      "    add_offset: 261.2217974783569\n",
      "    scale_factor: 0.0015225289673157054\n",
      "    _FillValue: -32767\n",
      "unlimited dimensions: time\n",
      "current shape = (1, 361, 720)\n",
      "filling on)])\n",
      "Attributes: ['CDI', 'Conventions', 'history', 'CDO']\n"
     ]
    }
   ],
   "source": [
    "print('Variables:', f.variables)\n",
    "print('Attributes:', f.ncattrs())"
   ]
  },
  {
   "cell_type": "code",
   "execution_count": 9,
   "metadata": {},
   "outputs": [
    {
     "name": "stdout",
     "output_type": "stream",
     "text": [
      "<class 'netCDF4._netCDF4.Variable'> <class 'numpy.ma.core.MaskedArray'>\n"
     ]
    }
   ],
   "source": [
    "temp = f.variables['t']\n",
    "# Retrieving the variable object versus the data\n",
    "print(type(temp), type(temp[:]))"
   ]
  },
  {
   "cell_type": "code",
   "execution_count": 13,
   "metadata": {},
   "outputs": [
    {
     "name": "stdout",
     "output_type": "stream",
     "text": [
      "(1, 361, 720) 215.71340664529046 306.56727771192055\n"
     ]
    }
   ],
   "source": [
    "temp = temp[:]\n",
    "print(temp.shape, temp.min(), temp.max())"
   ]
  },
  {
   "cell_type": "markdown",
   "metadata": {},
   "source": [
    "Not actually super difficult, but may be there is an even simpler way?"
   ]
  },
  {
   "cell_type": "code",
   "execution_count": 19,
   "metadata": {},
   "outputs": [
    {
     "name": "stdout",
     "output_type": "stream",
     "text": [
      "<class 'xarray.core.variable.Variable'>\n"
     ]
    }
   ],
   "source": [
    "import xarray as xr\n",
    "f = xr.open_dataset('d2s2/ei.ans.2010072912.800.T.nc')\n",
    "temp = f.variables['t']\n",
    "print(type(temp))"
   ]
  },
  {
   "cell_type": "markdown",
   "metadata": {},
   "source": [
    "Where is the difference to the above?"
   ]
  },
  {
   "cell_type": "code",
   "execution_count": null,
   "metadata": {},
   "outputs": [],
   "source": []
  }
 ],
 "metadata": {
  "kernelspec": {
   "display_name": "Python 3",
   "language": "python",
   "name": "python3"
  },
  "language_info": {
   "codemirror_mode": {
    "name": "ipython",
    "version": 3
   },
   "file_extension": ".py",
   "mimetype": "text/x-python",
   "name": "python",
   "nbconvert_exporter": "python",
   "pygments_lexer": "ipython3",
   "version": "3.7.0"
  }
 },
 "nbformat": 4,
 "nbformat_minor": 2
}
