{
 "cells": [
  {
   "cell_type": "markdown",
   "metadata": {},
   "source": [
    "# Day 3, after lunch: Gridded data analysis and plotting\n",
    "Focus: netCDF files. Very useful standard, because\n",
    " * Provide meta information\n",
    " * Provide structure (dimensions versus variables)\n",
    "\n",
    "We will work with temperatures at 850 hPa from the ERA5 reanalysis; (c) ECMWF. Data accessed through the Copernicus Climate Data Store (2020) and licensed under the Licence to use Copernicus Products."
   ]
  },
  {
   "cell_type": "markdown",
   "metadata": {},
   "source": [
    "## Raw access to netCDF\n",
    "\n",
    "Using the ``netCDF4`` library."
   ]
  },
  {
   "cell_type": "code",
   "execution_count": null,
   "metadata": {},
   "outputs": [],
   "source": [
    "import netCDF4 as nc\n",
    "f = nc.Dataset('D3S2/e5.ans.2010072906.850.t.nc', 'r')"
   ]
  },
  {
   "cell_type": "markdown",
   "metadata": {},
   "source": [
    "So far, so easy. But what's in this file?"
   ]
  },
  {
   "cell_type": "code",
   "execution_count": null,
   "metadata": {},
   "outputs": [],
   "source": [
    "print('Variables:', f.variables)\n",
    "print('Attributes:', f.ncattrs())"
   ]
  },
  {
   "cell_type": "markdown",
   "metadata": {},
   "source": [
    "Retrieving variables is straight-forward, but one has to be aware of a subtlety:"
   ]
  },
  {
   "cell_type": "code",
   "execution_count": null,
   "metadata": {},
   "outputs": [],
   "source": [
    "temp = f.variables['t']\n",
    "# Retrieving the variable object versus the data\n",
    "print(type(temp), type(temp[:]))"
   ]
  },
  {
   "cell_type": "markdown",
   "metadata": {},
   "source": [
    "There is a difference between the variable object ``temp`` and the ``numpy.ndarray`` that contains the actual data! The variable object contains all meta-data while the ``numpy.ndarray`` does not."
   ]
  },
  {
   "cell_type": "code",
   "execution_count": null,
   "metadata": {},
   "outputs": [],
   "source": [
    "temp = temp[:]\n",
    "print(temp.shape, temp.min(), temp.max())"
   ]
  },
  {
   "cell_type": "markdown",
   "metadata": {},
   "source": [
    "This raw access is not super difficult or cumbersome, but may be there is an even simpler way?"
   ]
  },
  {
   "cell_type": "markdown",
   "metadata": {},
   "source": [
    "## Access through ``xarray``\n",
    "\n",
    "The xarray package is very convenient for working with netCDF data, because it merges the variable object and the data array in one structure. "
   ]
  },
  {
   "cell_type": "code",
   "execution_count": null,
   "metadata": {},
   "outputs": [],
   "source": [
    "import xarray as xr\n",
    "ds = xr.open_dataset('D3S2/e5.ans.2010072906.850.t.nc')\n",
    "#ds\n",
    "temp_var = ds.variables['t']\n",
    "t_da = ds['t']\n",
    "print(type(t_da),type(temp_var))\n",
    "print(t_da)"
   ]
  },
  {
   "cell_type": "markdown",
   "metadata": {},
   "source": [
    "The access pattern is very much the same as through the ``netCDF4`` module. However, there is the additional option of accessing ``f['t']`` which contains the both the data and the metadata and can directly be used for analysis and calculations."
   ]
  },
  {
   "cell_type": "markdown",
   "metadata": {},
   "source": [
    "For example, the ``DataArray`` allows array indexing through dimension values rather than grid point indexes."
   ]
  },
  {
   "cell_type": "code",
   "execution_count": null,
   "metadata": {},
   "outputs": [],
   "source": [
    "print(t_da.sel(latitude=60.5))\n",
    "print(t_da.sel(latitude=60.5, longitude=5.5))"
   ]
  },
  {
   "cell_type": "markdown",
   "metadata": {},
   "source": [
    "The results of these indexing operations are again of type ``DataArray``, and can hence be further manipulated and analysed."
   ]
  },
  {
   "cell_type": "markdown",
   "metadata": {},
   "source": [
    "In addition, they contain up-to-date metadata, so they can directly be saved to netCDF files."
   ]
  },
  {
   "cell_type": "code",
   "execution_count": null,
   "metadata": {},
   "outputs": [],
   "source": [
    "from datetime import datetime as dt\n",
    "tosave = t_da.sel(latitude=slice(90,60)) # slightly wierd slice because latitudes are decreasing in the netCDF coordinate\n",
    "tosave.to_netcdf('example.nc')\n",
    "!ls -l example.nc"
   ]
  },
  {
   "cell_type": "markdown",
   "metadata": {},
   "source": [
    "If you have ncdump available, you can also have a direct look at what we saved, and to verify that all metadata has automatically been transferred (and even adapted!) to correctly describe the new netCDF file."
   ]
  },
  {
   "cell_type": "code",
   "execution_count": null,
   "metadata": {},
   "outputs": [],
   "source": [
    "# Won't work here, because ncdump is only available with another module\n",
    "# So may be open a second terminal, ssh into cyclone, module load ncview \n",
    "# and have a look with ncview and ncdump at the example.nc you created\n",
    "!ncdump -h example.nc"
   ]
  },
  {
   "cell_type": "markdown",
   "metadata": {},
   "source": [
    "## Plotting maps\n",
    "\n",
    "Now that we found an easy way to read and analyse gridded data, let's see how to visualise it. One of the most common types of visualisation is through maps. To plot data on a map, we use the ``cartopy`` module, which is based on ``matplotlib``."
   ]
  },
  {
   "cell_type": "markdown",
   "metadata": {},
   "source": [
    "So let's see how to set up a map to plot on."
   ]
  },
  {
   "cell_type": "code",
   "execution_count": null,
   "metadata": {},
   "outputs": [],
   "source": [
    "import cartopy.crs as ccrs\n",
    "import matplotlib.pyplot as plt\n",
    "\n",
    "# Create a matplotlib axes using the Lambert Conic Conformal projection\n",
    "proj = ccrs.LambertConformal(\n",
    "    central_longitude=-30, \n",
    "    central_latitude=58, \n",
    "    standard_parallels=(58, 58)\n",
    ")\n",
    "ax = plt.axes(projection=proj)\n",
    "\n",
    "# Add coastlines and the lat-lon grid\n",
    "ax.coastlines()\n",
    "ax.gridlines(ylocs=range(15,76,15))\n",
    "\n",
    "# set map boundaries by setting the x- and y-limits in meters\n",
    "#ax.set_xlim([-5.4e6, 5.4e6])\n",
    "#ax.set_ylim([-3.6e6, 3.6e6])"
   ]
  },
  {
   "cell_type": "markdown",
   "metadata": {},
   "source": [
    "A lot of text for an empty hull of a map. Now let's fill it with some data. Fortunately, that is very easy, using the standard plotting commands of ``matplotlib``, like ``contourf`` for a filled-contour plot."
   ]
  },
  {
   "cell_type": "code",
   "execution_count": null,
   "metadata": {},
   "outputs": [],
   "source": [
    "# Explicitly set the Figure size\n",
    "fig = plt.figure(figsize=(10.0,6.0), dpi=96) \n",
    "ax = plt.axes(projection=proj)\n",
    "\n",
    "# A temperature map\n",
    "cs = ax.contourf(t_da.longitude, t_da.latitude, t_da, \n",
    "            range(268,307,2),\n",
    "            cmap='RdBu_r',\n",
    "            transform=ccrs.PlateCarree(), # the projection of the data grid, here lat/lon, i.e. PlateCarree\n",
    ")\n",
    "ax.coastlines()\n",
    "ax.gridlines(ylocs=range(15,76,15))\n",
    "\n",
    "ax.set_xlim([-5.4e6, 5.4e6])\n",
    "ax.set_ylim([-3.6e6, 3.6e6])\n",
    "\n",
    "plt.colorbar(cs, fraction=0.1, shrink=0.9)"
   ]
  },
  {
   "cell_type": "markdown",
   "metadata": {},
   "source": [
    "Plotting data with many contours can be painfully slow with cartopy. This seems to be the case because of MANY back and forth transformations between the original and the map coordinates. \n",
    "\n",
    "One way to circumvent that is to use pcolormesh instead of contourf, in particular while developing the plot."
   ]
  },
  {
   "cell_type": "code",
   "execution_count": null,
   "metadata": {},
   "outputs": [],
   "source": [
    "# Explicitly set the Figure size\n",
    "fig = plt.figure(figsize=(10.0,6.0), dpi=96) \n",
    "ax = plt.axes(projection=proj)\n",
    "\n",
    "# A temperature map\n",
    "cs = ax.pcolormesh(t_da.longitude, t_da.latitude, t_da, \n",
    "            vmin=268, vmax=306,\n",
    "            cmap='RdBu_r',\n",
    "            transform=ccrs.PlateCarree(), # the projection of the data grid, here lat/lon, i.e. PlateCarree\n",
    ")\n",
    "ax.coastlines()\n",
    "ax.gridlines(ylocs=range(15,76,15))\n",
    "\n",
    "ax.set_xlim([-5.4e6, 5.4e6])\n",
    "ax.set_ylim([-3.6e6, 3.6e6])\n",
    "\n",
    "plt.colorbar(cs, fraction=0.1, shrink=0.9)"
   ]
  },
  {
   "cell_type": "markdown",
   "metadata": {},
   "source": [
    "Another way to circumvent that is to manually do the projections before, and do the contourf in map coordinates exclusively.\n",
    "\n",
    "So let's see how to do the projections manually."
   ]
  },
  {
   "cell_type": "code",
   "execution_count": null,
   "metadata": {},
   "outputs": [],
   "source": [
    "import numpy as np\n",
    "\n",
    "# Precalculate the x and y positions on the map for the lons and lats of the grid\n",
    "lons, lats = np.meshgrid(t_da.longitude, t_da.latitude)\n",
    "coords = proj.transform_points(ccrs.PlateCarree(), lons, lats)\n",
    "x = coords[:,:,0]\n",
    "y = coords[:,:,1]"
   ]
  },
  {
   "cell_type": "markdown",
   "metadata": {},
   "source": [
    "With that in place, onto the plotting."
   ]
  },
  {
   "cell_type": "code",
   "execution_count": null,
   "metadata": {},
   "outputs": [],
   "source": [
    "# Explicitly set the Figure size\n",
    "fig = plt.figure(figsize=(10.0,6.0), dpi=96) \n",
    "\n",
    "# No more projection here, we already know the x and y positions of the grid points.\n",
    "# But make sure the aspect ratio is equal. \n",
    "ax = plt.axes(aspect='equal') \n",
    "\n",
    "# A temperature map, plotted without any explicit projection\n",
    "cs = ax.contourf(x, y, t_da, np.arange(268,307,2), cmap='RdBu_r')\n",
    "ax.set_xlim([-5.4e6, 5.4e6])\n",
    "ax.set_ylim([-3.6e6, 3.6e6])\n",
    "ax.set_xticks([])\n",
    "ax.set_yticks([])\n",
    "plt.colorbar(cs, fraction=0.1, shrink=0.9)\n",
    "\n",
    "# Manually creating a second pair of axes, sharing the position with one use for the contourf, \n",
    "# to serve as the basis for grid/coastlines\n",
    "axm = fig.add_axes(ax.get_position(), projection=proj, sharex=ax, sharey=ax, frameon=False)\n",
    "axm.gridlines(ylocs=range(15,76,15))\n",
    "axm.coastlines()\n",
    "\n",
    "# Super-fast, but not quite the intended way to be used! So might come with unexpected caveats."
   ]
  },
  {
   "cell_type": "markdown",
   "metadata": {},
   "source": [
    "That, hopefully, went a lot faster than the original plot."
   ]
  },
  {
   "cell_type": "markdown",
   "metadata": {},
   "source": [
    "Then back to where we left off!\n",
    "\n",
    "This temperature data is from the peak of the Russian heat wave in 2010, so let's shift the map focus towards Eurasia, and mark some cities on the map. We'll use the cities where we have temperature time series available.\n",
    "\n",
    "For now we're only interested in the location of these cities (given in the meta data of the netCDF file), but later we'll also include the temperature time series in the plot.\n",
    "\n",
    "As a first step, we'll have a brief exploratory look at the data. It's also netCDF files, so let's use ``xarray`` again."
   ]
  },
  {
   "cell_type": "code",
   "execution_count": null,
   "metadata": {},
   "outputs": [],
   "source": [
    "ds = xr.open_dataset('D3S2/e5.ans.2010.850.Moscow.nc')\n",
    "ds"
   ]
  },
  {
   "cell_type": "markdown",
   "metadata": {},
   "source": [
    "So, we got three four-dimensional arrays with the dimensions time, level, latitude and longitude. All dimensions except time are of length 1, so we essentially have three time series from one location. Let's have a quick look at the temperature data before we continue."
   ]
  },
  {
   "cell_type": "code",
   "execution_count": null,
   "metadata": {},
   "outputs": [],
   "source": [
    "print(ds['t'].dims)\n",
    "print(ds['latitude'])\n",
    "print(ds['latitude'].values)\n",
    "ds['t'].plot()"
   ]
  },
  {
   "cell_type": "markdown",
   "metadata": {},
   "source": [
    "Now that we got a first impression of the data, let's put the cities on the map.\n",
    "\n",
    "## Exercise 1: Plotting city locations on the map\n",
    "\n",
    " * Adapt the map domain to show Eurasia rather than the North Atlantic\n",
    " * Take the location information for the three cities Moscow, St. Petersburg and Nizhny Novgorod and mark the respective locations on the map in different colors."
   ]
  },
  {
   "cell_type": "code",
   "execution_count": null,
   "metadata": {},
   "outputs": [],
   "source": [
    "fig = plt.figure(figsize=(10.0,6.0), dpi=96) \n",
    "\n",
    "# new projection, centred roughly on Moscow\n",
    "proj = ccrs.LambertConformal(\n",
    "    central_longitude=30, \n",
    "    central_latitude=55, \n",
    "    standard_parallels=(55, 55)\n",
    ")\n",
    "\n",
    "# Plot map\n",
    "ax = plt.axes(projection=proj)\n",
    "cs = ax.pcolormesh(t_da.longitude, t_da.latitude, t_da, \n",
    "            vmin=268, vmax=306,\n",
    "            cmap='RdBu_r',\n",
    "            transform=ccrs.PlateCarree(),\n",
    ")\n",
    "ax.coastlines()\n",
    "ax.gridlines(ylocs=range(15,76,15))\n",
    "\n",
    "ax.set_xlim([-3.2e6, 3.2e6])\n",
    "ax.set_ylim([-2.4e6, 2.4e6])\n",
    "plt.colorbar(cs, fraction=0.1, shrink=0.9)\n",
    "\n",
    "\n",
    "# obs and info from different places\n",
    "stations = ['StPeter', 'Moscow', 'NizNovg']\n",
    "\n",
    "# Add locations of stations on the map\n",
    "for sidx, station in zip(range(len(stations)), stations):\n",
    "    ds = xr.open_dataset('D3S2/e5.ans.2010.850.%s.nc' % station)\n",
    "    lat = ds['latitude'].values\n",
    "    lon = ds['longitude'].values\n",
    "    ax.scatter(lon, lat, s=100, facecolor='C%d' % sidx, edgecolor='w', \n",
    "               linewidth=1, transform=ccrs.PlateCarree())\n",
    "\n",
    "plt.savefig('D3S2/ex1.pdf')"
   ]
  },
  {
   "cell_type": "markdown",
   "metadata": {},
   "source": [
    "## Final plot exercise: Fancy plot with subpanels \n",
    "\n",
    "Finally, extend the plot by adding panels showing the temperature time series at these three locations.\n",
    "\n",
    " * Set up a 4x3 matrix of subplots, using the entire 3x3 square on the left for the map, and the 1x3 column on the right for the three temperature time series. This kind of panel setup can be achieved through the ``gridspec`` module of ``matplotlib``.\n",
    " * Add annotations to each panel to give a brief description of what is shown. ``plt.text`` provides the required functionality.\n",
    " * Match the colors of the temperature time series to the color of the markers on the map. \n",
    " * You can add a title for the entire figure rather than the individual panels by ``matplotlib.figure.suptitle``. \n",
    "\n",
    "Don't worry if you do not finish this exercise during the session, and feel very much free to experiment making your own kind of fancy plot!"
   ]
  },
  {
   "cell_type": "code",
   "execution_count": null,
   "metadata": {},
   "outputs": [],
   "source": [
    "import numpy as np\n",
    "import matplotlib.dates as mdates\n",
    "import matplotlib.gridspec as gridspec\n",
    "from datetime import timedelta as td\n",
    "\n",
    "# width with cb: 6.48 / 0.9 = 7.2, leaving 2.8 for the temperature curves\n",
    "fig = plt.figure(figsize=(10.0,4.32), dpi=96)\n",
    "\n",
    "# Setup panels\n",
    "gs = gridspec.GridSpec(3,4) # set up a 3-by-4 grid of subpanels\n",
    "gs.update(hspace=0.0, wspace=0.0) # no space between subpanels\n",
    "\n",
    "# Plot map\n",
    "axm = plt.subplot(gs[:,:-1], projection=proj) # Map axes covers everything but the rightmost column\n",
    "cs = axm.pcolormesh(t_da.longitude, t_da.latitude, t_da, \n",
    "            vmin=268, vmax=306,\n",
    "            cmap='RdBu_r',\n",
    "            transform=ccrs.PlateCarree(), # the projection of the data grid, here lat/lon, i.e. PlateCarree\n",
    ")\n",
    "axm.coastlines()\n",
    "axm.gridlines(ylocs=range(15,76,15))\n",
    "\n",
    "axm.set_xlim([-3.2e6, 3.2e6])\n",
    "axm.set_ylim([-2.4e6, 2.4e6])\n",
    "plt.colorbar(cs, fraction=0.1, shrink=0.9)\n",
    "\n",
    "showdate = dt(2010,7,29,6)\n",
    "datestr = showdate.strftime('%Y-%m-%d, %H UTC')\n",
    "axm.text(0.05, 0.05, datestr, transform=axm.transAxes, \n",
    "         bbox=dict(boxstyle=\"round\", fc='w', alpha=0.7))\n",
    "\n",
    "# Plot temperature time series, 3 weeks before and after the peak of the heat wave\n",
    "stationnames = ['St. Petersburg', 'Moscow', 'Nizhny Novgorod']\n",
    "for sidx, station, name in zip(range(len(stations)), stations, stationnames):\n",
    "    color = 'C%d' % sidx\n",
    "    ds = xr.open_dataset('D3S2/e5.ans.2010.850.%s.nc' % station)\n",
    "    ds = ds.sel(time=slice(showdate - td(21), showdate + td(21))) # select +/- 21 days around the showdate\n",
    "    T = ds['t']\n",
    "\n",
    "    lat = ds['latitude'].values\n",
    "    lon = ds['longitude'].values\n",
    "    axm.scatter(lon, lat, s=100, facecolor=color, edgecolor='w', \n",
    "               linewidth=1, transform=ccrs.PlateCarree())    \n",
    "    \n",
    "    ax = plt.subplot(gs[sidx,-1])\n",
    "    ax.plot([showdate, showdate], [278,296], color='0.2', linestyle='--') # vertical line\n",
    "    #T.plot(color=color) # <- quick, but less easy to customise \n",
    "    ax.plot(T.time, T, color)\n",
    "    ax.yaxis.tick_right()\n",
    "    \n",
    "    if station == stations[-1]:\n",
    "        ax.xaxis.set_major_formatter(mdates.DateFormatter('%d'))\n",
    "        ax.set_xlabel('Day of Jul/Aug 2010')\n",
    "    else:\n",
    "        ax.set_xticks([])\n",
    "    \n",
    "    ax.text(0.05, 0.05, name, color=color, transform=ax.transAxes)\n",
    "\n",
    "# After all this work, finally, a title for the entire figure.\n",
    "fig.suptitle('850 hPa Temperatures [K]')\n",
    "plt.savefig('D3S2/ex2.pdf')"
   ]
  },
  {
   "cell_type": "code",
   "execution_count": null,
   "metadata": {},
   "outputs": [],
   "source": []
  }
 ],
 "metadata": {
  "kernelspec": {
   "display_name": "dynpie3-2020a",
   "language": "python",
   "name": "dynpie3-2020a"
  },
  "language_info": {
   "codemirror_mode": {
    "name": "ipython",
    "version": 3
   },
   "file_extension": ".py",
   "mimetype": "text/x-python",
   "name": "python",
   "nbconvert_exporter": "python",
   "pygments_lexer": "ipython3",
   "version": "3.7.0"
  }
 },
 "nbformat": 4,
 "nbformat_minor": 2
}
