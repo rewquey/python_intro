{
 "cells": [
  {
   "cell_type": "markdown",
   "metadata": {},
   "source": [
    "# Day 2: From text files to plots\n",
    "Today we'll learn how to read text files into Python, how to extract data from those files, and how to create plots.\n",
    "\n",
    "Session outline:\n",
    "1. Introduction to `numpy` (Matlab-style matrices in Python)\n",
    "2. Creating plots with `matplotlib` (functionally similar to Matlab plots)\n",
    "3. Loading data from text files with `numpy`\n",
    "4. More plotting"
   ]
  },
  {
   "cell_type": "markdown",
   "metadata": {},
   "source": [
    "## Arrays with `numpy`\n",
    "Numpy is a matrix manipulation package for Python. Numpy arrays are similar to Matlab marices, although there are some notable differences, which are outlined in:\n",
    "* https://numpy.org/doc/stable/user/numpy-for-matlab-users.html"
   ]
  },
  {
   "cell_type": "code",
   "execution_count": null,
   "metadata": {},
   "outputs": [],
   "source": [
    "import numpy as np # import the numpy package\n",
    "\n",
    "# creating one-dimensional numpy arrays\n",
    "v = np.zeros(10)\n",
    "print(v)\n",
    "v = np.ones(10)\n",
    "print(v)\n",
    "print(2*v)\n",
    "\n",
    "# array indexing\n",
    "print(\"array indexing\")\n",
    "v = np.array([1,2,3], dtype=float) # create an array from a list\n",
    "print(v)\n",
    "print(v[2])\n",
    "\n",
    "# numpy arrays vs. Python lists\n",
    "v[1] = 10\n",
    "print(v)\n",
    "# v[1] = \"foo\" # ValueError: np arrays have fixed type\n",
    "\n",
    "# element-wise operations\n",
    "print(\"element-wise operations\")\n",
    "v1 = np.ones(5)\n",
    "v2 = 10*np.ones(5)\n",
    "print(v1)\n",
    "print(v2)\n",
    "print(v1+v2)\n",
    "print(v1*v2)\n",
    "\n",
    "# creating 2-dimensional arrays\n",
    "A = np.zeros((10, 5)) # note that argument is a tuple\n",
    "print(A)\n",
    "B = np.ones((10, 5))\n",
    "print(A + B)\n",
    "\n",
    "# matrix transposition and multiplication\n",
    "print(A.transpose())\n",
    "print(np.dot(B.transpose(), B))\n",
    "print(np.eye(5)) # the identity matrix (as in Matlab)"
   ]
  },
  {
   "cell_type": "markdown",
   "metadata": {},
   "source": [
    "## Plotting with `matplotlib`\n",
    "Using `matplotlib` to plot data stored in `numpy` arrays."
   ]
  },
  {
   "cell_type": "code",
   "execution_count": null,
   "metadata": {},
   "outputs": [],
   "source": [
    "import numpy as np\n",
    "import matplotlib.pyplot as plt\n",
    "# plt.style.use(\"ggplot\")\n",
    "\n",
    "# needed to use matplotlib in Jupyter notebooks\n",
    "%matplotlib inline \n",
    "ys = np.random.randn(100)\n",
    "xs = np.arange(0, 100)\n",
    "plt.plot(xs, ys, \".\")\n",
    "plt.xlim(0, 100)\n",
    "plt.ylim(-3, 3)\n",
    "plt.grid()\n",
    "plt.title(\"Scatter plot\")\n",
    "plt.xlabel(\"x\")\n",
    "plt.ylabel(\"y\")"
   ]
  },
  {
   "cell_type": "markdown",
   "metadata": {},
   "source": [
    "## Loading text files\n",
    "First, let's print the contents of the file."
   ]
  },
  {
   "cell_type": "code",
   "execution_count": null,
   "metadata": {},
   "outputs": [],
   "source": [
    "%%bash\n",
    "cat D2/Dovre1-Snoheim.txt"
   ]
  },
  {
   "cell_type": "markdown",
   "metadata": {},
   "source": [
    "Next, let's load the data into Python with the `loadtext` function in `numpy`.\n",
    "* https://numpy.org/doc/stable/reference/generated/numpy.loadtxt.html"
   ]
  },
  {
   "cell_type": "code",
   "execution_count": null,
   "metadata": {},
   "outputs": [],
   "source": [
    "# loading text files with np.loadtext\n",
    "filename = 'D2/Dovre1-Snoheim.txt'\n",
    "np.loadtxt(filename, delimiter=\"\\t\", encoding=\"utf8\")"
   ]
  },
  {
   "cell_type": "markdown",
   "metadata": {},
   "source": [
    "That didn't work!\n",
    "\n",
    "`numpy.loadtext` doesn't know what to do with the datetime strings in the first column. Because `numpy` arrays can only contain numbers we need to convert the strings into numbers when loading the file."
   ]
  },
  {
   "cell_type": "code",
   "execution_count": null,
   "metadata": {},
   "outputs": [],
   "source": [
    "# converting datetime strings to and from floats\n",
    "from datetime import datetime\n",
    "from matplotlib.dates import num2date, date2num\n",
    "def str2date(s):\n",
    "    date = datetime.strptime(s, \"%d.%m.%Y %H:%M:%S\")\n",
    "    return date2num(date)\n",
    "data = np.loadtxt('D2/Dovre1-Snoheim.txt', encoding='utf8', delimiter='\\t', converters={\n",
    "    0: str2date\n",
    "})\n",
    "\n",
    "# indexing into the data\n",
    "print(data.shape)\n",
    "print(data[0,0], \"converts to\", num2date(data[0,0]))"
   ]
  },
  {
   "cell_type": "markdown",
   "metadata": {},
   "source": [
    "# Plotting the data we loaded\n",
    "1. Extract the data we want to plot\n",
    "2. Convert floats back to dates\n",
    "3. Create the plot"
   ]
  },
  {
   "cell_type": "code",
   "execution_count": null,
   "metadata": {},
   "outputs": [],
   "source": [
    "# make the columns available as variables\n",
    "dates = num2date(data[:, 0])\n",
    "airtemp = data[:, 2]\n",
    "windspeed = data[:, 3]"
   ]
  },
  {
   "cell_type": "code",
   "execution_count": null,
   "metadata": {},
   "outputs": [],
   "source": [
    "# create the plot\n",
    "import matplotlib.pyplot as plt\n",
    "plt.plot(dates, airtemp)\n",
    "\n",
    "# add y-axis label\n",
    "plt.ylabel(\"Temperature [C]\")\n",
    "plt.grid()\n",
    "\n",
    "# change date format\n",
    "import matplotlib.dates as mdates\n",
    "ax = plt.gca() # gca: Get Current Axes\n",
    "ax.xaxis.set_major_formatter(mdates.DateFormatter(\"%d %b\"))"
   ]
  },
  {
   "cell_type": "markdown",
   "metadata": {},
   "source": [
    "## Windspeed on the right y-axis"
   ]
  },
  {
   "cell_type": "code",
   "execution_count": null,
   "metadata": {},
   "outputs": [],
   "source": [
    "# create the plot\n",
    "plt.figure(figsize=(9.6, 3.2), dpi=96)\n",
    "plt.plot(dates, airtemp, color=\"C0\", alpha=0.7)\n",
    "\n",
    "# add y-axis label\n",
    "plt.ylabel(\"Temperature [C]\", color=\"C0\")\n",
    "plt.grid()\n",
    "\n",
    "# change date format\n",
    "import matplotlib.dates as mdates\n",
    "ax = plt.gca() # gca: Get Current Axes\n",
    "\n",
    "# add windspeed on the right y-axis\n",
    "ax1 = plt.gca() # pyplot graphics object\n",
    "\n",
    "ax2 = ax1.twinx()\n",
    "ax2.plot(dates, windspeed, color=\"C1\", alpha=0.7)\n",
    "ax2.set_ylabel(\"Windspeed [m/s]\", color=\"C1\")\n",
    "\n",
    "ax.xaxis.set_major_formatter(mdates.DateFormatter(\"%d %b\"))\n",
    "\n",
    "plt.xlim(dates[0], dates[-1])"
   ]
  },
  {
   "cell_type": "markdown",
   "metadata": {},
   "source": [
    "# Exercise: Airtemp vs. windspeed scatter plot\n",
    "1. Create a scatter plot with air temperature (`airtemp`) on the x axis and wind speed (`windspeed`) on the y axis. Add axis labels, set axis limits, adjust colors, etc.\n",
    "2. Save the figure as a pdf using the `plt.savefig` command\n",
    "    * https://matplotlib.org/3.2.1/api/_as_gen/matplotlib.pyplot.savefig.html"
   ]
  },
  {
   "cell_type": "code",
   "execution_count": null,
   "metadata": {},
   "outputs": [],
   "source": [
    "plt.figure(figsize=(9.6, 9.6), dpi=96)\n",
    "plt.plot(airtemp, windspeed, \".\")\n",
    "plt.xlim(-5, 17.5)\n",
    "plt.ylim(0, 14)\n",
    "plt.grid()\n",
    "plt.xlabel(\"Air temperature [C]\")\n",
    "plt.ylabel(\"Wind speed [m/s]\")"
   ]
  },
  {
   "cell_type": "markdown",
   "metadata": {},
   "source": [
    "# Exercise: recreate the following figure\n",
    "* Data: `D2/rro_Bulken.txt`\n",
    "* Runoff is the 3-rd column from the right\n",
    "<img src=\"D2/bulken.png\">"
   ]
  },
  {
   "cell_type": "code",
   "execution_count": null,
   "metadata": {},
   "outputs": [],
   "source": [
    "%%bash\n",
    "cat D2/rro_Bulken.txt"
   ]
  },
  {
   "cell_type": "code",
   "execution_count": null,
   "metadata": {},
   "outputs": [],
   "source": [
    "import matplotlib.pyplot as plt\n",
    "import matplotlib.dates as mdates\n",
    "\n",
    "from datetime import datetime\n",
    "from matplotlib.dates import num2date, date2num\n",
    "\n",
    "def str2date_rro(s):\n",
    "    date = datetime.strptime(s, \"%d%m%Y\")\n",
    "    return date2num(date)\n",
    "\n",
    "def missing_to_NaN(istr):\n",
    "    ''' Convert a string containing a number to a float, interpreting unparsable strings as NaN '''\n",
    "    try:\n",
    "        val = float(istr)\n",
    "    except ValueError:\n",
    "        val = float('NaN')\n",
    "    \n",
    "    return val\n",
    "\n",
    "data = np.loadtxt(\"D2/rro_Bulken.txt\", encoding='latin1', converters={\n",
    "    0: str2date_rro,\n",
    "    1: missing_to_NaN,\n",
    "    2: missing_to_NaN,\n",
    "})\n",
    "\n",
    "# extract columns\n",
    "dates = num2date(data[:, 0])\n",
    "observed = data[:, 2] # observed daily flow\n",
    "median = data[:, 4] # median flow\n",
    "p25 = data[:, 3]\n",
    "p75 = data[:, 5]\n",
    "\n",
    "# plot\n",
    "plt.figure(figsize=(9.6, 3.2), dpi=96)\n",
    "plt.plot(dates, median, label=\"Median\")\n",
    "plt.plot(dates, observed, label=\"Observed\")\n",
    "plt.fill_between(dates, p25, p75, color=\"0.85\", label=\"25-th to 75-th interquantile range\")\n",
    "\n",
    "# configure\n",
    "plt.legend()\n",
    "plt.grid()\n",
    "plt.ylabel(\"Runnoff at Bulken [m³/s]\")\n",
    "plt.gca().xaxis.set_major_formatter(mdates.DateFormatter(\"%d %b\"))\n",
    "plt.ylim(0, 600)\n",
    "plt.xlim(dates[0], dates[-1])"
   ]
  },
  {
   "cell_type": "markdown",
   "metadata": {},
   "source": [
    "# Exercise: recreate the following figure\n",
    "* Data: `D2/rr24_Bulken.txt`\n",
    "* You can create bar plots with ``plt.bar``. The width of the bars can be changed by the ``width=value``-keyword argument, which with time date takes a value in the unit of days.\n",
    " \n",
    " <img src=\"D2/bulken_precip.png\">"
   ]
  },
  {
   "cell_type": "code",
   "execution_count": null,
   "metadata": {},
   "outputs": [],
   "source": [
    "%%bash\n",
    "cat D2/rr24_Bulken.txt"
   ]
  },
  {
   "cell_type": "code",
   "execution_count": null,
   "metadata": {},
   "outputs": [],
   "source": [
    "import matplotlib.pyplot as plt\n",
    "import matplotlib.dates as mdates\n",
    "\n",
    "from datetime import datetime\n",
    "from matplotlib.dates import num2date, date2num\n",
    "\n",
    "def str2date_rr24(s):\n",
    "    date = datetime.strptime(s, \"%d.%m.%Y\")\n",
    "    return date2num(date)\n",
    "\n",
    "def missing_to_NaN(istr):\n",
    "    ''' Convert a string containing a number to a float, interpreting unparsable strings as NaN '''\n",
    "    try:\n",
    "        val = float(istr)\n",
    "    except ValueError:\n",
    "        val = float('NaN')\n",
    "    \n",
    "    return val\n",
    "\n",
    "data = np.loadtxt(\"D2/rr24_Bulken.txt\", encoding='latin1', usecols=(1, 2, 3), skiprows=21, converters={\n",
    "    1: str2date_rr24,\n",
    "    2: missing_to_NaN,\n",
    "    3: missing_to_NaN,\n",
    "})\n",
    "\n",
    "dates = num2date(data[:, 0])\n",
    "precip = data[:, 1]\n",
    "\n",
    "fig = plt.figure(figsize=(9.6, 3.2), dpi=96)\n",
    "plt.bar(dates, precip, width=0.8)\n",
    "\n",
    "plt.ylabel(\"Daily precipitation [mm]\")\n",
    "plt.grid()\n",
    "plt.ylim(0, 70)\n",
    "plt.gca().xaxis.set_major_formatter(mdates.DateFormatter(\"%d %b\"))"
   ]
  }
 ],
 "metadata": {
  "kernelspec": {
   "display_name": "Python 3",
   "language": "python",
   "name": "python3"
  },
  "language_info": {
   "codemirror_mode": {
    "name": "ipython",
    "version": 3
   },
   "file_extension": ".py",
   "mimetype": "text/x-python",
   "name": "python",
   "nbconvert_exporter": "python",
   "pygments_lexer": "ipython3",
   "version": "3.6.9"
  }
 },
 "nbformat": 4,
 "nbformat_minor": 2
}
