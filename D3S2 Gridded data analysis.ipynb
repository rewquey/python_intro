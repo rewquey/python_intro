{
 "cells": [
  {
   "cell_type": "markdown",
   "metadata": {},
   "source": [
    "# Day 3, after lunch: Gridded data analysis and plotting\n",
    "Focus: netCDF files. Very useful standard, because\n",
    " * Provide meta information\n",
    " * Provide structure (dimensions versus variables)\n",
    "\n",
    "We will work with temperatures at 850 hPa from the ERA5 reanalysis; (c) ECMWF. Data accessed through the Copernicus Climate Data Store (2020) and licensed under the Licence to use Copernicus Products."
   ]
  },
  {
   "cell_type": "markdown",
   "metadata": {},
   "source": [
    "## Raw access to netCDF\n",
    "\n",
    "Using the ``netCDF4`` library."
   ]
  },
  {
   "cell_type": "code",
   "execution_count": null,
   "metadata": {},
   "outputs": [],
   "source": [
    "import netCDF4 as nc\n",
    "\n",
    "# interactive, code-along"
   ]
  },
  {
   "cell_type": "markdown",
   "metadata": {},
   "source": [
    "So far, so easy. But what's in this file?"
   ]
  },
  {
   "cell_type": "code",
   "execution_count": null,
   "metadata": {},
   "outputs": [],
   "source": [
    "# interactive, code-along"
   ]
  },
  {
   "cell_type": "markdown",
   "metadata": {},
   "source": [
    "Retrieving variables is straight-forward, but one has to be aware of a subtlety:"
   ]
  },
  {
   "cell_type": "code",
   "execution_count": null,
   "metadata": {},
   "outputs": [],
   "source": [
    "# Retrieving the variable object versus the data\n",
    "\n",
    "# interactive, code-along"
   ]
  },
  {
   "cell_type": "markdown",
   "metadata": {},
   "source": [
    "There is a difference between the variable object ``temp`` and the ``numpy.ndarray`` that contains the actual data! The variable object contains all meta-data while the ``numpy.ndarray`` does not."
   ]
  },
  {
   "cell_type": "code",
   "execution_count": null,
   "metadata": {},
   "outputs": [],
   "source": [
    "# interactive, code-along"
   ]
  },
  {
   "cell_type": "markdown",
   "metadata": {},
   "source": [
    "This raw access is not super difficult or cumbersome, but may be there is an even simpler way?"
   ]
  },
  {
   "cell_type": "markdown",
   "metadata": {},
   "source": [
    "## Access through ``xarray``\n",
    "\n",
    "The xarray package is very convenient for working with netCDF data, because it merges the variable object and the data array in one structure. "
   ]
  },
  {
   "cell_type": "code",
   "execution_count": null,
   "metadata": {},
   "outputs": [],
   "source": [
    "import xarray as xr\n",
    "\n",
    "# interactive, code-along"
   ]
  },
  {
   "cell_type": "markdown",
   "metadata": {},
   "source": [
    "The access pattern is very much the same as through the ``netCDF4`` module. However, there is the additional option of accessing ``f['t']`` which contains the both the data and the metadata and can directly be used for analysis and calculations."
   ]
  },
  {
   "cell_type": "markdown",
   "metadata": {},
   "source": [
    "For example, the ``DataArray`` allows array indexing through dimension values rather than grid point indexes."
   ]
  },
  {
   "cell_type": "code",
   "execution_count": null,
   "metadata": {},
   "outputs": [],
   "source": [
    "# interactive, code-along"
   ]
  },
  {
   "cell_type": "markdown",
   "metadata": {},
   "source": [
    "The results of these indexing operations are again of type ``DataArray``, and can hence be further manipulated and analysed."
   ]
  },
  {
   "cell_type": "markdown",
   "metadata": {},
   "source": [
    "In addition, they contain up-to-date metadata, so they can directly be saved to netCDF files."
   ]
  },
  {
   "cell_type": "code",
   "execution_count": null,
   "metadata": {},
   "outputs": [],
   "source": [
    "from datetime import datetime as dt\n",
    "\n",
    "# interactive, code-along"
   ]
  },
  {
   "cell_type": "markdown",
   "metadata": {},
   "source": [
    "If you have ncdump available, you can also have a direct look at what we saved, and to verify that all metadata has automatically been transferred (and even adapted!) to correctly describe the new netCDF file."
   ]
  },
  {
   "cell_type": "code",
   "execution_count": null,
   "metadata": {},
   "outputs": [],
   "source": [
    "# Won't work here, because ncdump is only available with another module\n",
    "# So may be open a second terminal, ssh into cyclone, module load ncview \n",
    "# and have a look with ncview and ncdump at the example.nc you created\n",
    "!ncdump -h example.nc"
   ]
  },
  {
   "cell_type": "markdown",
   "metadata": {},
   "source": [
    "## Plotting maps\n",
    "\n",
    "Now that we found an easy way to read and analyse gridded data, let's see how to visualise it. One of the most common types of visualisation is through maps. To plot data on a map, we use the ``cartopy`` module, which is based on ``matplotlib``."
   ]
  },
  {
   "cell_type": "markdown",
   "metadata": {},
   "source": [
    "So let's see how to set up a map to plot on."
   ]
  },
  {
   "cell_type": "code",
   "execution_count": null,
   "metadata": {},
   "outputs": [],
   "source": [
    "import cartopy.crs as ccrs\n",
    "import matplotlib.pyplot as plt\n",
    "\n",
    "# interactive, code-along"
   ]
  },
  {
   "cell_type": "markdown",
   "metadata": {},
   "source": [
    "A lot of text for an empty hull of a map. Now let's fill it with some data. Fortunately, that is very easy, using the standard plotting commands of ``matplotlib``, like ``contourf`` for a filled-contour plot."
   ]
  },
  {
   "cell_type": "code",
   "execution_count": null,
   "metadata": {},
   "outputs": [],
   "source": [
    "# interactive, code-along"
   ]
  },
  {
   "cell_type": "markdown",
   "metadata": {},
   "source": [
    "This temperature data is from the peak of the Russian heat wave in 2010, so let's shift the map focus towards Eurasia, and mark some cities on the map. We'll use the cities where we have temperature time series available.\n",
    "\n",
    "For now we're only interested in the location of these cities (given in the meta data of the netCDF file), but later we'll also include the temperature time series in the plot.\n",
    "\n",
    "As a first step, we'll have a brief exploratory look at the data. It's also netCDF files, so let's use ``xarray`` again."
   ]
  },
  {
   "cell_type": "code",
   "execution_count": null,
   "metadata": {},
   "outputs": [],
   "source": [
    "ds = xr.open_dataset('d2s2/e5.ans.2010.850.Moscow.nc')\n",
    "ds"
   ]
  },
  {
   "cell_type": "markdown",
   "metadata": {},
   "source": [
    "So, we got three four-dimensional arrays with the dimensions time, level, latitude and longitude. All dimensions except time are of length 1, so we essentially have three time series from one location. Let's have a quick look at the temperature data before we continue."
   ]
  },
  {
   "cell_type": "code",
   "execution_count": null,
   "metadata": {},
   "outputs": [],
   "source": [
    "# interactive, code-along"
   ]
  },
  {
   "cell_type": "markdown",
   "metadata": {},
   "source": [
    "Now that we got a first impression of the data, let's put the cities on the map.\n",
    "\n",
    "## Exercise 1: Plotting city locations on the map\n",
    "\n",
    " * Adapt the map domain to show Eurasia rather than the North Atlantic\n",
    " * Take the location information for the three cities Moscow, St. Petersburg and Nizhny Novgorod and mark the respective locations on the map in different colors."
   ]
  },
  {
   "cell_type": "code",
   "execution_count": null,
   "metadata": {},
   "outputs": [],
   "source": [
    "# new projection, centred roughly on Moscow\n",
    "proj = ccrs.LambertConformal(\n",
    "    central_longitude=30, \n",
    "    central_latitude=55, \n",
    "    standard_parallels=(55, 55)\n",
    ")\n",
    "\n",
    "# do the plotting"
   ]
  },
  {
   "cell_type": "markdown",
   "metadata": {},
   "source": [
    "## Final plot exercise: Fancy plot with subpanels \n",
    "\n",
    "Finally, extend the plot by adding panels showing the temperature time series at these three locations.\n",
    "\n",
    " * Set up a 4x3 matrix of subplots, using the entire 3x3 square on the left for the map, and the 1x3 column on the right for the three temperature time series. This kind of panel setup can be achieved through the ``gridspec`` module of ``matplotlib``.\n",
    " * Add annotations to each panel to give a brief description of what is shown. ``plt.text`` provides the required functionality.\n",
    " * Match the colors of the temperature time series to the color of the markers on the map. \n",
    " * You can add a title for the entire figure rather than the individual panels by ``matplotlib.figure.suptitle``. \n",
    "\n",
    "Don't worry if you do not finish this exercise during the session, and feel very much free to experiment making your own kind of fancy plot!"
   ]
  },
  {
   "cell_type": "code",
   "execution_count": null,
   "metadata": {},
   "outputs": [],
   "source": [
    "import numpy as np\n",
    "import matplotlib.dates as mdates\n",
    "import matplotlib.gridspec as gridspec\n",
    "from datetime import timedelta as td\n",
    "\n",
    "# width with cb: 6.48 / 0.9 = 7.2, leaving 2.8 for the temperature curves\n",
    "fig = plt.figure(figsize=(10.0,4.32), dpi=96)\n",
    "\n",
    "# Setup panels\n",
    "gs = gridspec.GridSpec(3,4) # set up a 3-by-4 grid of subpanels\n",
    "gs.update(hspace=0.0, wspace=0.0) # no space between subpanels\n",
    "\n",
    "# do the plotting"
   ]
  },
  {
   "cell_type": "code",
   "execution_count": null,
   "metadata": {},
   "outputs": [],
   "source": []
  }
 ],
 "metadata": {
  "kernelspec": {
   "display_name": "dynpie3-2020a",
   "language": "python",
   "name": "dynpie3-2020a"
  },
  "language_info": {
   "codemirror_mode": {
    "name": "ipython",
    "version": 3
   },
   "file_extension": ".py",
   "mimetype": "text/x-python",
   "name": "python",
   "nbconvert_exporter": "python",
   "pygments_lexer": "ipython3",
   "version": "3.7.0"
  }
 },
 "nbformat": 4,
 "nbformat_minor": 2
}
